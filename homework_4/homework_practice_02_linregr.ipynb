{
  "cells": [
    {
      "cell_type": "markdown",
      "metadata": {
        "id": "mneCU7zzAmeQ"
      },
      "source": [
        "# Домашнее задание 2 - предобработка признаков, pandas\n",
        "\n",
        "\n",
        "### О задании\n",
        "\n",
        "Практическое задание 2 посвящено изучению основных библиотек для анализа данных, а также линейных моделей и методов их обучения. Вы научитесь:\n",
        " * применять библиотеки NumPy и Pandas для осуществления желаемых преобразований;\n",
        " * подготавливать данные для обучения линейных моделей;\n",
        " * обучать линейную, Lasso и Ridge-регрессии при помощи модуля scikit-learn;\n",
        " * реализовывать обычный и стохастический градиентные спуски;\n",
        " * обучать линейную регрессию для произвольного функционала качества.\n",
        "\n",
        "\n",
        "### Оценивание и штрафы\n",
        "\n",
        "Каждая из задач имеет определенную «стоимость» (указана в скобках около задачи). Максимально допустимая оценка за работу — 10 баллов. Кроме того, некоторые из заданий являются опциональными (необязательными), однако за их выполнение можно получить дополнительные баллы, которые позднее будут учитываться при проставлении оценок автоматом по курсу.\n",
        "\n",
        "Сдавать задание после указанного срока сдачи нельзя. При выставлении неполного балла за задание в связи с наличием ошибок на усмотрение проверяющего предусмотрена возможность исправить работу на указанных в ответном письме условиях.\n",
        "\n",
        "Задание выполняется самостоятельно. «Похожие» решения считаются плагиатом и все задействованные студенты (в том числе те, у кого списали) не могут получить за него больше 0 баллов. Если вы нашли решение какого-то из заданий (или его часть) в открытом источнике, необходимо указать ссылку на этот источник в отдельном блоке в конце Вашей работы (скорее всего вы будете не единственным, кто это нашел, поэтому чтобы исключить подозрение в плагиате, необходима ссылка на источник).\n",
        "\n",
        "Неэффективная реализация кода может негативно отразиться на оценке.\n",
        "\n",
        "\n",
        "### Формат сдачи\n",
        "Для сдачи задания получившийся файл \\*.ipynb с решением необходимо выложить в свой репозиторий github."
      ]
    },
    {
      "cell_type": "markdown",
      "metadata": {
        "id": "iquj1IobAmeT"
      },
      "source": [
        "## Библиотеки для анализа данных\n",
        "\n",
        "### NumPy\n",
        "\n",
        "Во всех заданиях данного раздела запрещено использовать циклы  и list comprehensions. Под вектором и матрицей в данных заданиях понимается одномерный и двумерный numpy.array соответственно."
      ]
    },
    {
      "cell_type": "code",
      "execution_count": 50,
      "metadata": {
        "id": "6rmpLuHOAmeU"
      },
      "outputs": [],
      "source": [
        "import numpy as np"
      ]
    },
    {
      "cell_type": "markdown",
      "metadata": {
        "id": "WXEAppfoAmeW"
      },
      "source": [
        "**1. (0.2 балла)** Реализуйте функцию, возвращающую максимальный элемент в векторе x среди элементов, перед которыми стоит нулевой. Для x = np.array([6, 2, 0, 3, 0, 0, 5, 7, 0]) ответом является 5. Если нулевых элементов нет, функция должна возвращать None.\n"
      ]
    },
    {
      "cell_type": "code",
      "execution_count": 51,
      "metadata": {
        "colab": {
          "base_uri": "https://localhost:8080/"
        },
        "id": "HueVBXVDAmeW",
        "outputId": "806911c7-de58-4f01-f970-e6c52c5c5765"
      },
      "outputs": [
        {
          "output_type": "stream",
          "name": "stdout",
          "text": [
            "5\n"
          ]
        }
      ],
      "source": [
        "def max_element(arr):\n",
        "    zero_indices = np.where(arr[:-1] == 0)[0] + 1\n",
        "    if len(zero_indices) == 0:\n",
        "        return None\n",
        "\n",
        "    return np.max(arr[zero_indices])\n",
        "\n",
        "x = np.array([6, 2, 0, 3, 0, 0, 5, 7, 0])\n",
        "print(max_element(x))\n",
        "\n"
      ]
    },
    {
      "cell_type": "markdown",
      "metadata": {
        "id": "urVRATL3AmeX"
      },
      "source": [
        "**2. (0.2 балла)** Реализуйте функцию, принимающую на вход матрицу и некоторое число и возвращающую ближайший к числу элемент матрицы. Например: для X = np.arange(0,10).reshape((2, 5)) и v = 3.6 ответом будет 4."
      ]
    },
    {
      "cell_type": "code",
      "execution_count": 52,
      "metadata": {
        "collapsed": true,
        "colab": {
          "base_uri": "https://localhost:8080/"
        },
        "id": "XjdRsvw-AmeX",
        "outputId": "5fe7eeb1-1ca2-4a50-ee15-2ef60e231ef1"
      },
      "outputs": [
        {
          "output_type": "stream",
          "name": "stdout",
          "text": [
            "4\n"
          ]
        }
      ],
      "source": [
        "def nearest_value(X, v):\n",
        "    diff = np.abs(X - v)\n",
        "    min_index = np.argmin(diff)\n",
        "    return X.flat[min_index]\n",
        "\n",
        "X = np.arange(0, 10).reshape((2, 5))\n",
        "v = 3.6\n",
        "result = nearest_value(X, v)\n",
        "print(result)"
      ]
    },
    {
      "cell_type": "markdown",
      "metadata": {
        "id": "nS3uUwNnAmeY"
      },
      "source": [
        "**3. (0.2 балла)** Реализуйте функцию scale(X), которая принимает на вход матрицу и масштабирует каждый ее столбец (вычитает выборочное среднее и делит на стандартное отклонение). Убедитесь, что в функции не будет происходить деления на ноль. Протестируйте на случайной матрице (для её генерации можно использовать, например, функцию [numpy.random.randint](http://docs.scipy.org/doc/numpy/reference/generated/numpy.random.randint.html))."
      ]
    },
    {
      "cell_type": "code",
      "execution_count": 53,
      "metadata": {
        "collapsed": true,
        "colab": {
          "base_uri": "https://localhost:8080/"
        },
        "id": "36bE2UXEAmeZ",
        "outputId": "899a69f7-eab9-4e1d-d3b0-605698b0a9dd"
      },
      "outputs": [
        {
          "output_type": "stream",
          "name": "stdout",
          "text": [
            "Исходная матрица:\n",
            " [[2 1 4]\n",
            " [4 9 5]\n",
            " [2 3 3]\n",
            " [0 5 4]]\n",
            "Масштабированная матрица:\n",
            " [[ 0.         -1.18321596  0.        ]\n",
            " [ 1.41421356  1.52127766  1.41421356]\n",
            " [ 0.         -0.50709255 -1.41421356]\n",
            " [-1.41421356  0.16903085  0.        ]]\n"
          ]
        }
      ],
      "source": [
        "def scale(X):\n",
        "    mean = np.mean(X, axis=0)\n",
        "    std = np.std(X, axis=0)\n",
        "    std_0 = np.where(std == 0, 1, std)\n",
        "    # Масштабируем матрицу\n",
        "    X_scaled = (X - mean) / std_0\n",
        "    return X_scaled\n",
        "\n",
        "X = np.random.randint(0, 10, size=(4, 3))\n",
        "print(\"Исходная матрица:\\n\", X)\n",
        "print(\"Масштабированная матрица:\\n\", scale(X))"
      ]
    },
    {
      "cell_type": "markdown",
      "metadata": {
        "id": "-FgxgUS3AmeZ"
      },
      "source": [
        "**4. (0.2 балла)** Реализуйте функцию, которая для заданной матрицы находит:\n",
        " - определитель\n",
        " - след\n",
        " - наименьший и наибольший элементы\n",
        " - норму Фробениуса\n",
        " - собственные числа\n",
        " - обратную матрицу\n",
        "\n",
        "Для тестирования сгенерируйте матрицу с элементами из нормального распределения $\\mathcal{N}$(10,1)"
      ]
    },
    {
      "cell_type": "code",
      "execution_count": 54,
      "metadata": {
        "colab": {
          "base_uri": "https://localhost:8080/"
        },
        "id": "5lGGfTxsAmeZ",
        "outputId": "3a27b0c1-4f83-4c7a-cdd7-800fef729352"
      },
      "outputs": [
        {
          "output_type": "stream",
          "name": "stdout",
          "text": [
            "Матрица X:\n",
            " [[11.00798672 10.76051952 11.77255557]\n",
            " [ 8.31180988 10.57559636 10.07035227]\n",
            " [11.05165923  7.78369488  9.09747296]]\n",
            "Результаты:\n",
            " {'determinant': np.float64(-34.16174395388996), 'trace': np.float64(30.68105604013055), 'min_element': np.float64(7.7836948760606575), 'max_element': np.float64(11.772555573535612), 'frobenius_norm': np.float64(30.387302039886638), 'eigenvalues': array([30.15123068, -0.8319884 ,  1.36181376]), 'inverse': array([[-0.52183087,  0.18323289,  0.47244584],\n",
            "       [-1.04437396,  0.87704571,  0.38063222],\n",
            "       [ 1.5274775 , -0.97298268, -0.78967373]])}\n"
          ]
        }
      ],
      "source": [
        "def get_stats(X):\n",
        "    # Определитель\n",
        "    determinant = np.linalg.det(X)\n",
        "    # След диагонали\n",
        "    trace = np.trace(X)\n",
        "    # Наименьший и наибольший элементы\n",
        "    min_element = np.min(X)\n",
        "    max_element = np.max(X)\n",
        "    # Норма Фробениуса\n",
        "    frobenius_norm = np.linalg.norm(X, 'fro')\n",
        "    # Собственные числа\n",
        "    eigenvalues = np.linalg.eigvals(X)\n",
        "    # Обратная матрица (если она существует)\n",
        "    try:\n",
        "        inverse = np.linalg.inv(X)\n",
        "    except np.linalg.LinAlgError:\n",
        "        inverse = None  # если не существует\n",
        "\n",
        "    return {\n",
        "        'determinant': determinant,\n",
        "        'trace': trace,\n",
        "        'min_element': min_element,\n",
        "        'max_element': max_element,\n",
        "        'frobenius_norm': frobenius_norm,\n",
        "        'eigenvalues': eigenvalues,\n",
        "        'inverse': inverse\n",
        "    }\n",
        "\n",
        "# Генерируем матрицу с элементами из нормального распределения N(10, 1)\n",
        "X = np.random.normal(loc=10, scale=1, size=(3, 3))\n",
        "print(\"Матрица X:\\n\", X)\n",
        "\n",
        "stats = get_stats(X)\n",
        "print(\"Результаты:\\n\", stats)"
      ]
    },
    {
      "cell_type": "markdown",
      "metadata": {
        "id": "sAXbTCmqAmea"
      },
      "source": [
        "**5. (0.2 балла)** Повторите 100 раз следующий эксперимент: сгенерируйте две матрицы размера 10×10 из стандартного нормального распределения, перемножьте их (как матрицы) и найдите максимальный элемент. Какое среднее значение по экспериментам у максимальных элементов? 95-процентная квантиль?"
      ]
    },
    {
      "cell_type": "code",
      "execution_count": 55,
      "metadata": {
        "collapsed": true,
        "colab": {
          "base_uri": "https://localhost:8080/"
        },
        "id": "IX9xa7ryAmec",
        "outputId": "67b8cd32-a74a-4d60-a552-68b15ee362c0"
      },
      "outputs": [
        {
          "output_type": "stream",
          "name": "stdout",
          "text": [
            "Среднее значение максимальных элементов: 8.490295929468338\n",
            "95-процентная квантиль: 12.415441901321584\n"
          ]
        }
      ],
      "source": [
        "max_elements = np.empty(100)\n",
        "for exp_num in range(100):\n",
        "    A = np.random.normal(size=(10, 10))\n",
        "    B = np.random.normal(size=(10, 10))\n",
        "    C = np.matmul(A, B)\n",
        "    max_elements[exp_num] = np.max(C)\n",
        "\n",
        "mean_max = np.mean(max_elements)\n",
        "quantile_95 = np.quantile(max_elements, 0.95)\n",
        "\n",
        "print(\"Среднее значение максимальных элементов:\", mean_max)\n",
        "print(\"95-процентная квантиль:\", quantile_95)"
      ]
    },
    {
      "cell_type": "markdown",
      "metadata": {
        "id": "YnHdLYfJAmed"
      },
      "source": [
        "### Pandas\n",
        "\n",
        "![](https://metrouk2.files.wordpress.com/2015/10/panda.jpg)\n",
        "\n",
        "#### Ответьте на вопросы о данных по авиарейсам в США за январь-апрель 2008 года.\n",
        "\n",
        "Данные находятся в приложенном файле `2008.csv`. Их [описание](http://stat-computing.org/dataexpo/2009/the-data.html) приведено ниже:"
      ]
    },
    {
      "cell_type": "markdown",
      "metadata": {
        "id": "6gStmTfoAmed"
      },
      "source": [
        "Airline on-time performance\n",
        "\n",
        "Have you ever been stuck in an airport because your flight was delayed or cancelled and wondered if you could have predicted it if you'd had more data? This is your chance to find out.\n",
        "\n",
        "The data\n",
        "The data set is available for download here.\n",
        "The data consists of flight arrival and departure details for all commercial flights within the USA, from October 1987 to April 2008. This is a large dataset: there are nearly 120 million records in total, and takes up 1.6 gigabytes of space compressed and 12 gigabytes when uncompressed.\n",
        "\n",
        "Understanding and preparing the data\n",
        "In order to answer above questions, we are going to analyze the provided dataset, containing up to 1936758 ### different internal flights in the US for 2008 and their causes for delay, diversion and cancellation\n",
        "\n",
        "The data comes from the U.S. Department of Transportation’s (DOT) Bureau of Transportation Statistics (BTS). Meta data explanations\n",
        "\n",
        "This dataset is composed by the following variables:\n",
        "\n",
        "**Year** 2008 **Month** 1-12 **DayofMonth** 1-31 **DayOfWeek** 1 (Monday) - 7 (Sunday)  \n",
        "**DepTime** actual departure time (local, hhmm)  \n",
        "**CRSDepTime** scheduled departure time (local, hhmm)  \n",
        "**ArrTime** actual arrival time (local, hhmm)  \n",
        "**CRSArrTime** scheduled arrival time (local, hhmm)  \n",
        "**UniqueCarrier** unique carrier code  \n",
        "**FlightNum** flight number  \n",
        "**TailNum** plane tail number: aircraft registration, unique aircraft identifier  \n",
        "**ActualElapsedTime** in minutes  \n",
        "**CRSElapsedTime** in minutes  \n",
        "**AirTime** in minutes  \n",
        "**ArrDelay** arrival delay, in minutes: A flight is counted as “on time” if it operated less than 15 minutes later the scheduled time shown in the carriers’ Computerized Reservations Systems (CRS).  \n",
        "**DepDelay** departure delay, in minutes  \n",
        "**Origin** origin IATA airport code  \n",
        "**Dest** destination IATA airport code  \n",
        "**Distance** in miles  \n",
        "**TaxiIn** taxi in time, in minutes  \n",
        "**TaxiOut** taxi out time in minutes  \n",
        "**Cancelled** *was the flight cancelled  \n",
        "**CancellationCode** reason for cancellation (A = carrier, B = weather, C = NAS, D = security)  \n",
        "**Diverted** 1 = yes, 0 = no  \n",
        "**CarrierDelay** in minutes: Carrier delay is within the control of the air carrier. Examples of occurrences that may determine carrier delay are: aircraft cleaning, aircraft damage, awaiting the arrival of connecting passengers or crew, baggage, bird strike, cargo loading, catering, computer, outage-carrier equipment, crew legality (pilot or attendant rest), damage by hazardous goods, engineering inspection, fueling, handling disabled passengers, late crew, lavatory servicing, maintenance, oversales, potable water servicing, removal of unruly passenger, slow boarding or seating, stowing carry-on baggage, weight and balance delays.  \n",
        "**WeatherDelay** in minutes: Weather delay is caused by extreme or hazardous weather conditions that are forecasted or manifest themselves on point of departure, enroute, or on point of arrival.  \n",
        "**NASDelay** in minutes: Delay that is within the control of the National Airspace System (NAS) may include: non-extreme weather conditions, airport operations, heavy traffic volume, air traffic control, etc.  \n",
        "**SecurityDelay** in minutes: Security delay is caused by evacuation of a terminal or concourse, re-boarding of aircraft because of security breach, inoperative screening equipment and/or long lines in excess of 29 minutes at screening areas.  \n",
        "**LateAircraftDelay** in minutes: Arrival delay at an airport due to the late arrival of the same aircraft at a previous airport. The ripple effect of an earlier delay at downstream airports is referred to as delay propagation."
      ]
    },
    {
      "cell_type": "code",
      "execution_count": 56,
      "metadata": {
        "id": "tXhufDRWAmee"
      },
      "outputs": [],
      "source": [
        "import pandas as pd\n",
        "%matplotlib inline"
      ]
    },
    {
      "cell_type": "markdown",
      "metadata": {
        "id": "NEItZSXXAmee"
      },
      "source": [
        "**6. (0.3 балла)** Какая из причин отмены рейса (`CancellationCode`) была самой частой? (расшифровки кодов можно найти в описании данных)"
      ]
    },
    {
      "cell_type": "code",
      "execution_count": 57,
      "metadata": {
        "colab": {
          "base_uri": "https://localhost:8080/"
        },
        "id": "at-9Drp2Amee",
        "outputId": "99b6e878-4f3e-44d3-aa27-8f037c47eec0"
      },
      "outputs": [
        {
          "output_type": "stream",
          "name": "stdout",
          "text": [
            "       Year  Month  DayofMonth  DayOfWeek  DepTime  CRSDepTime  ArrTime  \\\n",
            "0      2008      6          18          3   2111.0        2055   2308.0   \n",
            "1      2008      6           4          3   1426.0        1410   1730.0   \n",
            "2      2008      8           3          7   1143.0        1145   1501.0   \n",
            "3      2008      1          23          3   1141.0        1144   1323.0   \n",
            "4      2008      5           4          7    815.0         820   1243.0   \n",
            "...     ...    ...         ...        ...      ...         ...      ...   \n",
            "69995  2008      5          12          1   1829.0        1840   2137.0   \n",
            "69996  2008      5          11          7   1149.0        1125   1336.0   \n",
            "69997  2008      9          24          3   1012.0        1012   1132.0   \n",
            "69998  2008      2          18          1   1906.0        1900   2200.0   \n",
            "69999  2008     12           6          6    859.0         900    959.0   \n",
            "\n",
            "       CRSArrTime UniqueCarrier  FlightNum  ... TaxiIn  TaxiOut  Cancelled  \\\n",
            "0            2300            WN        242  ...    3.0      8.0          0   \n",
            "1            1728            XE       2380  ...    4.0     12.0          0   \n",
            "2            1520            WN       1769  ...    4.0      9.0          0   \n",
            "3            1335            OO       3802  ...    4.0     19.0          0   \n",
            "4            1300            WN        399  ...    4.0      8.0          0   \n",
            "...           ...           ...        ...  ...    ...      ...        ...   \n",
            "69995        2149            DL        794  ...   22.0     20.0          0   \n",
            "69996        1314            OO       6159  ...    4.0     13.0          0   \n",
            "69997        1132            YV       7058  ...    7.0     10.0          0   \n",
            "69998        2139            NW        641  ...   20.0     22.0          0   \n",
            "69999        1005            WN        510  ...    2.0     12.0          0   \n",
            "\n",
            "       CancellationCode  Diverted  CarrierDelay WeatherDelay NASDelay  \\\n",
            "0                   NaN         0           NaN          NaN      NaN   \n",
            "1                   NaN         0           NaN          NaN      NaN   \n",
            "2                   NaN         0           NaN          NaN      NaN   \n",
            "3                   NaN         0           NaN          NaN      NaN   \n",
            "4                   NaN         0           NaN          NaN      NaN   \n",
            "...                 ...       ...           ...          ...      ...   \n",
            "69995               NaN         0           NaN          NaN      NaN   \n",
            "69996               NaN         0           0.0          0.0      0.0   \n",
            "69997               NaN         0           NaN          NaN      NaN   \n",
            "69998               NaN         0           0.0          0.0     15.0   \n",
            "69999               NaN         0           NaN          NaN      NaN   \n",
            "\n",
            "       SecurityDelay  LateAircraftDelay  \n",
            "0                NaN                NaN  \n",
            "1                NaN                NaN  \n",
            "2                NaN                NaN  \n",
            "3                NaN                NaN  \n",
            "4                NaN                NaN  \n",
            "...              ...                ...  \n",
            "69995            NaN                NaN  \n",
            "69996            0.0               22.0  \n",
            "69997            NaN                NaN  \n",
            "69998            0.0                6.0  \n",
            "69999            NaN                NaN  \n",
            "\n",
            "[70000 rows x 29 columns]\n"
          ]
        }
      ],
      "source": [
        "df = pd.read_csv('2008.csv')\n",
        "print(df)"
      ]
    },
    {
      "cell_type": "code",
      "source": [
        "print(df['CancellationCode'].value_counts(dropna=False))"
      ],
      "metadata": {
        "colab": {
          "base_uri": "https://localhost:8080/"
        },
        "id": "gdF3txHC6GHo",
        "outputId": "7154e539-a0c9-41d8-c425-99f2a37dc4dc"
      },
      "execution_count": 58,
      "outputs": [
        {
          "output_type": "stream",
          "name": "stdout",
          "text": [
            "CancellationCode\n",
            "NaN    68589\n",
            "A        563\n",
            "B        549\n",
            "C        299\n",
            "Name: count, dtype: int64\n"
          ]
        }
      ]
    },
    {
      "cell_type": "markdown",
      "source": [
        " (A = carrier, B = weather, C = NAS, D = security)"
      ],
      "metadata": {
        "id": "i9JitxeI7DMA"
      }
    },
    {
      "cell_type": "markdown",
      "metadata": {
        "id": "jkCL9BQLAmef"
      },
      "source": [
        "**7. (0.3 балла)** Найдите среднее, минимальное и максимальное расстояние, пройденное самолетом."
      ]
    },
    {
      "cell_type": "code",
      "execution_count": 59,
      "metadata": {
        "collapsed": true,
        "colab": {
          "base_uri": "https://localhost:8080/"
        },
        "id": "6O7MAIgSAmef",
        "outputId": "2a4c7425-5d46-46fe-dfce-f45d9c47e7ad"
      },
      "outputs": [
        {
          "output_type": "stream",
          "name": "stdout",
          "text": [
            "Среднее: 724.5\n",
            "Минимальное: 31.0\n",
            "Максимальное: 4962.0\n"
          ]
        }
      ],
      "source": [
        "distance = df['Distance'].describe()\n",
        "\n",
        "print(f\"Среднее: {distance['mean']:.1f}\")\n",
        "print(f\"Минимальное: {distance['min']:.1f}\")\n",
        "print(f\"Максимальное: {distance['max']:.1f}\")"
      ]
    },
    {
      "cell_type": "markdown",
      "metadata": {
        "id": "Cyxllj6zAmef"
      },
      "source": [
        "**8. (0.3 балла)** Не выглядит ли подозрительным минимальное пройденное расстояние? В какие дни и на каких рейсах оно было? Какое расстояние было пройдено этими же рейсами в другие дни?"
      ]
    },
    {
      "cell_type": "code",
      "execution_count": 60,
      "metadata": {
        "collapsed": true,
        "colab": {
          "base_uri": "https://localhost:8080/"
        },
        "id": "tCPLnkdVAmef",
        "outputId": "d9085bba-f433-4989-b13f-4639d2956f5f"
      },
      "outputs": [
        {
          "output_type": "stream",
          "name": "stdout",
          "text": [
            "       Month  DayofMonth  FlightNum UniqueCarrier TailNum Origin Dest\n",
            "1116      12          30         65            AS  N795AS    WRG  PSG\n",
            "6958      12          26         65            AS  N795AS    WRG  PSG\n",
            "17349      8          18         64            AS  N768AS    PSG  WRG\n",
            "27534      3          11         64            AS  N764AS    PSG  WRG\n",
            "46082      8           9         65            AS  N708AS    WRG  PSG\n",
            "48112      2          28         64            AS  N762AS    PSG  WRG\n"
          ]
        }
      ],
      "source": [
        "min_d = distance['min']\n",
        "r = df[df['Distance'] == min_d]\n",
        "print(r[['Month',  'DayofMonth', 'FlightNum', 'UniqueCarrier', 'TailNum', 'Origin', 'Dest']])"
      ]
    },
    {
      "cell_type": "code",
      "source": [
        "m = df[((df['Origin'] == 'WRG') | (df['Origin'] == 'PSG')) & ((df['Dest'] == 'PSG') | (df['Dest'] == 'WRG'))]\n",
        "print(m[['Month','DayofMonth','Distance']].sort_values(['Month','DayofMonth']))"
      ],
      "metadata": {
        "colab": {
          "base_uri": "https://localhost:8080/"
        },
        "id": "Rodn8P1wABl4",
        "outputId": "0214882a-c1b2-4f5d-9c1a-ec34bc781362"
      },
      "execution_count": 61,
      "outputs": [
        {
          "output_type": "stream",
          "name": "stdout",
          "text": [
            "       Month  DayofMonth  Distance\n",
            "48112      2          28        31\n",
            "27534      3          11        31\n",
            "46082      8           9        31\n",
            "17349      8          18        31\n",
            "6958      12          26        31\n",
            "1116      12          30        31\n"
          ]
        }
      ]
    },
    {
      "cell_type": "markdown",
      "source": [
        "Получается, что других дней не было"
      ],
      "metadata": {
        "id": "WKPm4Ly0BjwJ"
      }
    },
    {
      "cell_type": "markdown",
      "metadata": {
        "id": "pfJVal8HAmef"
      },
      "source": [
        "**9. (0.3 балла)** Из какого аэропорта было произведено больше всего вылетов? В каком городе он находится?"
      ]
    },
    {
      "cell_type": "code",
      "execution_count": 62,
      "metadata": {
        "collapsed": true,
        "colab": {
          "base_uri": "https://localhost:8080/"
        },
        "id": "VrpsttxHAmef",
        "outputId": "72de6b4b-6d48-4606-b376-d1998b0a7ad9"
      },
      "outputs": [
        {
          "output_type": "stream",
          "name": "stdout",
          "text": [
            "Origin\n",
            "ATL    4134\n",
            "Name: count, dtype: int64\n"
          ]
        }
      ],
      "source": [
        "print(df['Origin'].value_counts().head(1))"
      ]
    },
    {
      "cell_type": "markdown",
      "source": [
        "Международный аэропорт Хартсфилд-Джексон Атланта (ATL) — самый загруженный аэропорт в США по пассажиропотоку."
      ],
      "metadata": {
        "id": "ZnQB0MqCClVS"
      }
    },
    {
      "cell_type": "markdown",
      "metadata": {
        "id": "S24IZLJLAmef"
      },
      "source": [
        "**10. (0.3 балла)** Найдите для каждого аэропорта среднее время полета (`AirTime`) по всем вылетевшим из него рейсам. Какой аэропорт имеет наибольшее значение этого показателя?"
      ]
    },
    {
      "cell_type": "code",
      "execution_count": 63,
      "metadata": {
        "collapsed": true,
        "colab": {
          "base_uri": "https://localhost:8080/"
        },
        "id": "OLk8FoEPAmeg",
        "outputId": "ed8106ff-7987-4eb6-a6c0-c066cf6370b3"
      },
      "outputs": [
        {
          "output_type": "stream",
          "name": "stdout",
          "text": [
            "Origin\n",
            "SJU    205.200000\n",
            "BQN    193.954545\n",
            "PSE    191.875000\n",
            "STT    185.029412\n",
            "ANC    165.415094\n",
            "          ...    \n",
            "PSG     20.250000\n",
            "OXR     19.666667\n",
            "WRG     18.000000\n",
            "GST     13.000000\n",
            "DLG           NaN\n",
            "Name: AirTime, Length: 297, dtype: float64\n"
          ]
        }
      ],
      "source": [
        "print(df.groupby('Origin')['AirTime'].mean().sort_values(ascending=False))"
      ]
    },
    {
      "cell_type": "markdown",
      "metadata": {
        "id": "EJk2AKFYAmeg"
      },
      "source": [
        "**11. (0.5 балла)** Найдите аэропорт, у которого наибольшая доля задержанных (`DepDelay > 0`) рейсов. Исключите при этом из рассмотрения аэропорты, из которых было отправлено меньше 1000 рейсов (используйте функцию `filter` после `groupby`)."
      ]
    },
    {
      "cell_type": "code",
      "execution_count": 64,
      "metadata": {
        "colab": {
          "base_uri": "https://localhost:8080/"
        },
        "id": "zAMfxzrkAmeg",
        "outputId": "796af45c-a81c-4a74-b03d-ef16bb95cdb1"
      },
      "outputs": [
        {
          "output_type": "stream",
          "name": "stdout",
          "text": [
            "Origin\n",
            "EWR    51.115911\n",
            "dtype: float64\n"
          ]
        }
      ],
      "source": [
        "airports = df.groupby('Origin').filter(lambda x: len(x) > 1000)\n",
        "\n",
        "airports_0 = airports[airports['DepDelay'] > 0]\n",
        "airports_сount = airports.groupby('Origin').size()\n",
        "airports_0_count = airports_0.groupby('Origin').size()\n",
        "\n",
        "print(((airports_0_count/airports_сount).sort_values(ascending=False) * 100).head(1))"
      ]
    },
    {
      "cell_type": "markdown",
      "metadata": {
        "id": "TbZ5DEwAAmeg"
      },
      "source": [
        "## Линейная регрессия\n",
        "\n",
        "В этой части мы разберемся с линейной регрессией, способами её обучения и измерением качества ее прогнозов.\n",
        "\n",
        "Будем рассматривать датасет из предыдущей части задания для предсказания времени задержки отправления рейса в минутах (DepDelay). Отметим, что под задержкой подразумевается не только опоздание рейса относительно планируемого времени вылета, но и отправление до планируемого времени.\n",
        "\n",
        "### Подготовка данных\n",
        "\n",
        "**12. (0.5 балла)** Считайте выборку из файла при помощи функции pd.read_csv и ответьте на следующие вопросы:\n",
        "   - Имеются ли в данных пропущенные значения?\n",
        "   - Сколько всего пропущенных элементов в таблице \"объект-признак\"?\n",
        "   - Сколько объектов имеют хотя бы один пропуск?\n",
        "   - Сколько признаков имеют хотя бы одно пропущенное значение?"
      ]
    },
    {
      "cell_type": "code",
      "execution_count": 65,
      "metadata": {
        "scrolled": true,
        "colab": {
          "base_uri": "https://localhost:8080/"
        },
        "id": "ficPAp4QAmeg",
        "outputId": "a6208960-a16c-4a97-c7eb-32666e7488d4"
      },
      "outputs": [
        {
          "output_type": "stream",
          "name": "stdout",
          "text": [
            "<class 'pandas.core.frame.DataFrame'>\n",
            "RangeIndex: 70000 entries, 0 to 69999\n",
            "Data columns (total 29 columns):\n",
            " #   Column             Non-Null Count  Dtype  \n",
            "---  ------             --------------  -----  \n",
            " 0   Year               70000 non-null  int64  \n",
            " 1   Month              70000 non-null  int64  \n",
            " 2   DayofMonth         70000 non-null  int64  \n",
            " 3   DayOfWeek          70000 non-null  int64  \n",
            " 4   DepTime            68601 non-null  float64\n",
            " 5   CRSDepTime         70000 non-null  int64  \n",
            " 6   ArrTime            68444 non-null  float64\n",
            " 7   CRSArrTime         70000 non-null  int64  \n",
            " 8   UniqueCarrier      70000 non-null  object \n",
            " 9   FlightNum          70000 non-null  int64  \n",
            " 10  TailNum            69180 non-null  object \n",
            " 11  ActualElapsedTime  68418 non-null  float64\n",
            " 12  CRSElapsedTime     69991 non-null  float64\n",
            " 13  AirTime            68418 non-null  float64\n",
            " 14  ArrDelay           68418 non-null  float64\n",
            " 15  DepDelay           68601 non-null  float64\n",
            " 16  Origin             70000 non-null  object \n",
            " 17  Dest               70000 non-null  object \n",
            " 18  Distance           70000 non-null  int64  \n",
            " 19  TaxiIn             68444 non-null  float64\n",
            " 20  TaxiOut            68594 non-null  float64\n",
            " 21  Cancelled          70000 non-null  int64  \n",
            " 22  CancellationCode   1411 non-null   object \n",
            " 23  Diverted           70000 non-null  int64  \n",
            " 24  CarrierDelay       15253 non-null  float64\n",
            " 25  WeatherDelay       15253 non-null  float64\n",
            " 26  NASDelay           15253 non-null  float64\n",
            " 27  SecurityDelay      15253 non-null  float64\n",
            " 28  LateAircraftDelay  15253 non-null  float64\n",
            "dtypes: float64(14), int64(10), object(5)\n",
            "memory usage: 15.5+ MB\n"
          ]
        }
      ],
      "source": [
        "df.info()"
      ]
    },
    {
      "cell_type": "markdown",
      "source": [
        "1. Пропущенные значения имеются, это видно по столбцу Non-Null"
      ],
      "metadata": {
        "id": "FaL-zUifKt3F"
      }
    },
    {
      "cell_type": "code",
      "source": [
        "df.isnull().sum().sum()"
      ],
      "metadata": {
        "colab": {
          "base_uri": "https://localhost:8080/"
        },
        "id": "0rgpv0FlLAcT",
        "outputId": "a5fc5066-5d17-4d2c-b971-637813cbdbd9"
      },
      "execution_count": 66,
      "outputs": [
        {
          "output_type": "execute_result",
          "data": {
            "text/plain": [
              "np.int64(355215)"
            ]
          },
          "metadata": {},
          "execution_count": 66
        }
      ]
    },
    {
      "cell_type": "markdown",
      "source": [
        "2. кол-во пропущенных значений"
      ],
      "metadata": {
        "id": "OgzWrXp4LDQr"
      }
    },
    {
      "cell_type": "code",
      "source": [
        "df.isnull().any(axis=1).sum()"
      ],
      "metadata": {
        "colab": {
          "base_uri": "https://localhost:8080/"
        },
        "id": "nlDb8DEpLHMq",
        "outputId": "03d14502-4575-41ec-f8e6-b09600e81326"
      },
      "execution_count": 67,
      "outputs": [
        {
          "output_type": "execute_result",
          "data": {
            "text/plain": [
              "np.int64(70000)"
            ]
          },
          "metadata": {},
          "execution_count": 67
        }
      ]
    },
    {
      "cell_type": "markdown",
      "source": [
        "3. 70000 объектов имеют хотя бы один пропуск\n",
        "\n",
        "\n"
      ],
      "metadata": {
        "id": "EzrfKnWmLHTq"
      }
    },
    {
      "cell_type": "code",
      "source": [
        "df.isnull().any(axis=0).sum()"
      ],
      "metadata": {
        "colab": {
          "base_uri": "https://localhost:8080/"
        },
        "id": "vC4KVv-VLR38",
        "outputId": "efcf8316-e1ba-4a7e-8b20-82ac1190a141"
      },
      "execution_count": 68,
      "outputs": [
        {
          "output_type": "execute_result",
          "data": {
            "text/plain": [
              "np.int64(16)"
            ]
          },
          "metadata": {},
          "execution_count": 68
        }
      ]
    },
    {
      "cell_type": "markdown",
      "source": [
        "4. 16 признаков имеют хотя бы одно пропущенное значение"
      ],
      "metadata": {
        "id": "Bpfu0uhGLR7i"
      }
    },
    {
      "cell_type": "markdown",
      "metadata": {
        "id": "gk9yXPfWAmeh"
      },
      "source": [
        "Как вы понимаете, также не имеет смысла рассматривать при решении поставленной задачи объекты с пропущенным значением целевой переменной. В связи с этим ответьте на следующие вопросы и выполните соответствующие действия:\n",
        "- Имеются ли пропущенные значения в целевой переменной?\n",
        "- Проанализируйте объекты с пропущенными значениями целевой переменной. Чем вызвано это явление? Что их объединяет? Можно ли в связи с этим, на ваш взгляд, исключить какие-то признаки из рассмотрения? Обоснуйте свою точку зрения.\n",
        "\n",
        "Исключите из выборки объекты **с пропущенным значением целевой переменной и со значением целевой переменной, равным 0**, а также при необходимости исключите признаки в соответствии с вашим ответом на последний вопрос из списка и выделите целевую переменную в отдельный вектор, исключив её из матрицы \"объект-признак\"."
      ]
    },
    {
      "cell_type": "code",
      "execution_count": 69,
      "metadata": {
        "collapsed": true,
        "colab": {
          "base_uri": "https://localhost:8080/"
        },
        "id": "pB5QpGqkAmeh",
        "outputId": "9c24e35c-b54d-41bb-d7b9-0c7a9c5deebb"
      },
      "outputs": [
        {
          "output_type": "execute_result",
          "data": {
            "text/plain": [
              "np.int64(1399)"
            ]
          },
          "metadata": {},
          "execution_count": 69
        }
      ],
      "source": [
        "df['DepDelay'].isnull().sum()"
      ]
    },
    {
      "cell_type": "code",
      "source": [
        "df[df['DepDelay'].isnull()]"
      ],
      "metadata": {
        "colab": {
          "base_uri": "https://localhost:8080/",
          "height": 443
        },
        "id": "rc30WjBtL2v7",
        "outputId": "66185d69-732a-4c4c-a1b5-c97f5d5ba666"
      },
      "execution_count": 70,
      "outputs": [
        {
          "output_type": "execute_result",
          "data": {
            "text/plain": [
              "       Year  Month  DayofMonth  DayOfWeek  DepTime  CRSDepTime  ArrTime  \\\n",
              "11     2008      3           6          4      NaN        1605      NaN   \n",
              "78     2008      1          19          6      NaN         750      NaN   \n",
              "103    2008      7          24          4      NaN        1230      NaN   \n",
              "112    2008      2           4          1      NaN         620      NaN   \n",
              "128    2008      1          21          1      NaN        1838      NaN   \n",
              "...     ...    ...         ...        ...      ...         ...      ...   \n",
              "69818  2008      6           9          1      NaN        1645      NaN   \n",
              "69836  2008      1          25          5      NaN         938      NaN   \n",
              "69884  2008     12          26          5      NaN        1935      NaN   \n",
              "69918  2008      3           1          6      NaN         600      NaN   \n",
              "69949  2008      1          21          1      NaN        1630      NaN   \n",
              "\n",
              "       CRSArrTime UniqueCarrier  FlightNum  ... TaxiIn  TaxiOut  Cancelled  \\\n",
              "11           1940            AA        484  ...    NaN      NaN          1   \n",
              "78            930            EV       4772  ...    NaN      NaN          1   \n",
              "103          1355            FL        816  ...    NaN      NaN          1   \n",
              "112           758            NW       1281  ...    NaN      NaN          1   \n",
              "128          2005            UA       1251  ...    NaN      NaN          1   \n",
              "...           ...           ...        ...  ...    ...      ...        ...   \n",
              "69818        1800            MQ       3627  ...    NaN      NaN          1   \n",
              "69836        1030            MQ       3254  ...    NaN      NaN          1   \n",
              "69884        2116            NW       1430  ...    NaN      NaN          1   \n",
              "69918         742            EV       4715  ...    NaN      NaN          1   \n",
              "69949        1729            MQ       4198  ...    NaN      NaN          1   \n",
              "\n",
              "       CancellationCode  Diverted  CarrierDelay WeatherDelay NASDelay  \\\n",
              "11                    B         0           NaN          NaN      NaN   \n",
              "78                    B         0           NaN          NaN      NaN   \n",
              "103                   A         0           NaN          NaN      NaN   \n",
              "112                   B         0           NaN          NaN      NaN   \n",
              "128                   A         0           NaN          NaN      NaN   \n",
              "...                 ...       ...           ...          ...      ...   \n",
              "69818                 C         0           NaN          NaN      NaN   \n",
              "69836                 B         0           NaN          NaN      NaN   \n",
              "69884                 B         0           NaN          NaN      NaN   \n",
              "69918                 A         0           NaN          NaN      NaN   \n",
              "69949                 C         0           NaN          NaN      NaN   \n",
              "\n",
              "       SecurityDelay  LateAircraftDelay  \n",
              "11               NaN                NaN  \n",
              "78               NaN                NaN  \n",
              "103              NaN                NaN  \n",
              "112              NaN                NaN  \n",
              "128              NaN                NaN  \n",
              "...              ...                ...  \n",
              "69818            NaN                NaN  \n",
              "69836            NaN                NaN  \n",
              "69884            NaN                NaN  \n",
              "69918            NaN                NaN  \n",
              "69949            NaN                NaN  \n",
              "\n",
              "[1399 rows x 29 columns]"
            ],
            "text/html": [
              "\n",
              "  <div id=\"df-acdb9333-bf41-44e5-94f1-60d1c9e74bd4\" class=\"colab-df-container\">\n",
              "    <div>\n",
              "<style scoped>\n",
              "    .dataframe tbody tr th:only-of-type {\n",
              "        vertical-align: middle;\n",
              "    }\n",
              "\n",
              "    .dataframe tbody tr th {\n",
              "        vertical-align: top;\n",
              "    }\n",
              "\n",
              "    .dataframe thead th {\n",
              "        text-align: right;\n",
              "    }\n",
              "</style>\n",
              "<table border=\"1\" class=\"dataframe\">\n",
              "  <thead>\n",
              "    <tr style=\"text-align: right;\">\n",
              "      <th></th>\n",
              "      <th>Year</th>\n",
              "      <th>Month</th>\n",
              "      <th>DayofMonth</th>\n",
              "      <th>DayOfWeek</th>\n",
              "      <th>DepTime</th>\n",
              "      <th>CRSDepTime</th>\n",
              "      <th>ArrTime</th>\n",
              "      <th>CRSArrTime</th>\n",
              "      <th>UniqueCarrier</th>\n",
              "      <th>FlightNum</th>\n",
              "      <th>...</th>\n",
              "      <th>TaxiIn</th>\n",
              "      <th>TaxiOut</th>\n",
              "      <th>Cancelled</th>\n",
              "      <th>CancellationCode</th>\n",
              "      <th>Diverted</th>\n",
              "      <th>CarrierDelay</th>\n",
              "      <th>WeatherDelay</th>\n",
              "      <th>NASDelay</th>\n",
              "      <th>SecurityDelay</th>\n",
              "      <th>LateAircraftDelay</th>\n",
              "    </tr>\n",
              "  </thead>\n",
              "  <tbody>\n",
              "    <tr>\n",
              "      <th>11</th>\n",
              "      <td>2008</td>\n",
              "      <td>3</td>\n",
              "      <td>6</td>\n",
              "      <td>4</td>\n",
              "      <td>NaN</td>\n",
              "      <td>1605</td>\n",
              "      <td>NaN</td>\n",
              "      <td>1940</td>\n",
              "      <td>AA</td>\n",
              "      <td>484</td>\n",
              "      <td>...</td>\n",
              "      <td>NaN</td>\n",
              "      <td>NaN</td>\n",
              "      <td>1</td>\n",
              "      <td>B</td>\n",
              "      <td>0</td>\n",
              "      <td>NaN</td>\n",
              "      <td>NaN</td>\n",
              "      <td>NaN</td>\n",
              "      <td>NaN</td>\n",
              "      <td>NaN</td>\n",
              "    </tr>\n",
              "    <tr>\n",
              "      <th>78</th>\n",
              "      <td>2008</td>\n",
              "      <td>1</td>\n",
              "      <td>19</td>\n",
              "      <td>6</td>\n",
              "      <td>NaN</td>\n",
              "      <td>750</td>\n",
              "      <td>NaN</td>\n",
              "      <td>930</td>\n",
              "      <td>EV</td>\n",
              "      <td>4772</td>\n",
              "      <td>...</td>\n",
              "      <td>NaN</td>\n",
              "      <td>NaN</td>\n",
              "      <td>1</td>\n",
              "      <td>B</td>\n",
              "      <td>0</td>\n",
              "      <td>NaN</td>\n",
              "      <td>NaN</td>\n",
              "      <td>NaN</td>\n",
              "      <td>NaN</td>\n",
              "      <td>NaN</td>\n",
              "    </tr>\n",
              "    <tr>\n",
              "      <th>103</th>\n",
              "      <td>2008</td>\n",
              "      <td>7</td>\n",
              "      <td>24</td>\n",
              "      <td>4</td>\n",
              "      <td>NaN</td>\n",
              "      <td>1230</td>\n",
              "      <td>NaN</td>\n",
              "      <td>1355</td>\n",
              "      <td>FL</td>\n",
              "      <td>816</td>\n",
              "      <td>...</td>\n",
              "      <td>NaN</td>\n",
              "      <td>NaN</td>\n",
              "      <td>1</td>\n",
              "      <td>A</td>\n",
              "      <td>0</td>\n",
              "      <td>NaN</td>\n",
              "      <td>NaN</td>\n",
              "      <td>NaN</td>\n",
              "      <td>NaN</td>\n",
              "      <td>NaN</td>\n",
              "    </tr>\n",
              "    <tr>\n",
              "      <th>112</th>\n",
              "      <td>2008</td>\n",
              "      <td>2</td>\n",
              "      <td>4</td>\n",
              "      <td>1</td>\n",
              "      <td>NaN</td>\n",
              "      <td>620</td>\n",
              "      <td>NaN</td>\n",
              "      <td>758</td>\n",
              "      <td>NW</td>\n",
              "      <td>1281</td>\n",
              "      <td>...</td>\n",
              "      <td>NaN</td>\n",
              "      <td>NaN</td>\n",
              "      <td>1</td>\n",
              "      <td>B</td>\n",
              "      <td>0</td>\n",
              "      <td>NaN</td>\n",
              "      <td>NaN</td>\n",
              "      <td>NaN</td>\n",
              "      <td>NaN</td>\n",
              "      <td>NaN</td>\n",
              "    </tr>\n",
              "    <tr>\n",
              "      <th>128</th>\n",
              "      <td>2008</td>\n",
              "      <td>1</td>\n",
              "      <td>21</td>\n",
              "      <td>1</td>\n",
              "      <td>NaN</td>\n",
              "      <td>1838</td>\n",
              "      <td>NaN</td>\n",
              "      <td>2005</td>\n",
              "      <td>UA</td>\n",
              "      <td>1251</td>\n",
              "      <td>...</td>\n",
              "      <td>NaN</td>\n",
              "      <td>NaN</td>\n",
              "      <td>1</td>\n",
              "      <td>A</td>\n",
              "      <td>0</td>\n",
              "      <td>NaN</td>\n",
              "      <td>NaN</td>\n",
              "      <td>NaN</td>\n",
              "      <td>NaN</td>\n",
              "      <td>NaN</td>\n",
              "    </tr>\n",
              "    <tr>\n",
              "      <th>...</th>\n",
              "      <td>...</td>\n",
              "      <td>...</td>\n",
              "      <td>...</td>\n",
              "      <td>...</td>\n",
              "      <td>...</td>\n",
              "      <td>...</td>\n",
              "      <td>...</td>\n",
              "      <td>...</td>\n",
              "      <td>...</td>\n",
              "      <td>...</td>\n",
              "      <td>...</td>\n",
              "      <td>...</td>\n",
              "      <td>...</td>\n",
              "      <td>...</td>\n",
              "      <td>...</td>\n",
              "      <td>...</td>\n",
              "      <td>...</td>\n",
              "      <td>...</td>\n",
              "      <td>...</td>\n",
              "      <td>...</td>\n",
              "      <td>...</td>\n",
              "    </tr>\n",
              "    <tr>\n",
              "      <th>69818</th>\n",
              "      <td>2008</td>\n",
              "      <td>6</td>\n",
              "      <td>9</td>\n",
              "      <td>1</td>\n",
              "      <td>NaN</td>\n",
              "      <td>1645</td>\n",
              "      <td>NaN</td>\n",
              "      <td>1800</td>\n",
              "      <td>MQ</td>\n",
              "      <td>3627</td>\n",
              "      <td>...</td>\n",
              "      <td>NaN</td>\n",
              "      <td>NaN</td>\n",
              "      <td>1</td>\n",
              "      <td>C</td>\n",
              "      <td>0</td>\n",
              "      <td>NaN</td>\n",
              "      <td>NaN</td>\n",
              "      <td>NaN</td>\n",
              "      <td>NaN</td>\n",
              "      <td>NaN</td>\n",
              "    </tr>\n",
              "    <tr>\n",
              "      <th>69836</th>\n",
              "      <td>2008</td>\n",
              "      <td>1</td>\n",
              "      <td>25</td>\n",
              "      <td>5</td>\n",
              "      <td>NaN</td>\n",
              "      <td>938</td>\n",
              "      <td>NaN</td>\n",
              "      <td>1030</td>\n",
              "      <td>MQ</td>\n",
              "      <td>3254</td>\n",
              "      <td>...</td>\n",
              "      <td>NaN</td>\n",
              "      <td>NaN</td>\n",
              "      <td>1</td>\n",
              "      <td>B</td>\n",
              "      <td>0</td>\n",
              "      <td>NaN</td>\n",
              "      <td>NaN</td>\n",
              "      <td>NaN</td>\n",
              "      <td>NaN</td>\n",
              "      <td>NaN</td>\n",
              "    </tr>\n",
              "    <tr>\n",
              "      <th>69884</th>\n",
              "      <td>2008</td>\n",
              "      <td>12</td>\n",
              "      <td>26</td>\n",
              "      <td>5</td>\n",
              "      <td>NaN</td>\n",
              "      <td>1935</td>\n",
              "      <td>NaN</td>\n",
              "      <td>2116</td>\n",
              "      <td>NW</td>\n",
              "      <td>1430</td>\n",
              "      <td>...</td>\n",
              "      <td>NaN</td>\n",
              "      <td>NaN</td>\n",
              "      <td>1</td>\n",
              "      <td>B</td>\n",
              "      <td>0</td>\n",
              "      <td>NaN</td>\n",
              "      <td>NaN</td>\n",
              "      <td>NaN</td>\n",
              "      <td>NaN</td>\n",
              "      <td>NaN</td>\n",
              "    </tr>\n",
              "    <tr>\n",
              "      <th>69918</th>\n",
              "      <td>2008</td>\n",
              "      <td>3</td>\n",
              "      <td>1</td>\n",
              "      <td>6</td>\n",
              "      <td>NaN</td>\n",
              "      <td>600</td>\n",
              "      <td>NaN</td>\n",
              "      <td>742</td>\n",
              "      <td>EV</td>\n",
              "      <td>4715</td>\n",
              "      <td>...</td>\n",
              "      <td>NaN</td>\n",
              "      <td>NaN</td>\n",
              "      <td>1</td>\n",
              "      <td>A</td>\n",
              "      <td>0</td>\n",
              "      <td>NaN</td>\n",
              "      <td>NaN</td>\n",
              "      <td>NaN</td>\n",
              "      <td>NaN</td>\n",
              "      <td>NaN</td>\n",
              "    </tr>\n",
              "    <tr>\n",
              "      <th>69949</th>\n",
              "      <td>2008</td>\n",
              "      <td>1</td>\n",
              "      <td>21</td>\n",
              "      <td>1</td>\n",
              "      <td>NaN</td>\n",
              "      <td>1630</td>\n",
              "      <td>NaN</td>\n",
              "      <td>1729</td>\n",
              "      <td>MQ</td>\n",
              "      <td>4198</td>\n",
              "      <td>...</td>\n",
              "      <td>NaN</td>\n",
              "      <td>NaN</td>\n",
              "      <td>1</td>\n",
              "      <td>C</td>\n",
              "      <td>0</td>\n",
              "      <td>NaN</td>\n",
              "      <td>NaN</td>\n",
              "      <td>NaN</td>\n",
              "      <td>NaN</td>\n",
              "      <td>NaN</td>\n",
              "    </tr>\n",
              "  </tbody>\n",
              "</table>\n",
              "<p>1399 rows × 29 columns</p>\n",
              "</div>\n",
              "    <div class=\"colab-df-buttons\">\n",
              "\n",
              "  <div class=\"colab-df-container\">\n",
              "    <button class=\"colab-df-convert\" onclick=\"convertToInteractive('df-acdb9333-bf41-44e5-94f1-60d1c9e74bd4')\"\n",
              "            title=\"Convert this dataframe to an interactive table.\"\n",
              "            style=\"display:none;\">\n",
              "\n",
              "  <svg xmlns=\"http://www.w3.org/2000/svg\" height=\"24px\" viewBox=\"0 -960 960 960\">\n",
              "    <path d=\"M120-120v-720h720v720H120Zm60-500h600v-160H180v160Zm220 220h160v-160H400v160Zm0 220h160v-160H400v160ZM180-400h160v-160H180v160Zm440 0h160v-160H620v160ZM180-180h160v-160H180v160Zm440 0h160v-160H620v160Z\"/>\n",
              "  </svg>\n",
              "    </button>\n",
              "\n",
              "  <style>\n",
              "    .colab-df-container {\n",
              "      display:flex;\n",
              "      gap: 12px;\n",
              "    }\n",
              "\n",
              "    .colab-df-convert {\n",
              "      background-color: #E8F0FE;\n",
              "      border: none;\n",
              "      border-radius: 50%;\n",
              "      cursor: pointer;\n",
              "      display: none;\n",
              "      fill: #1967D2;\n",
              "      height: 32px;\n",
              "      padding: 0 0 0 0;\n",
              "      width: 32px;\n",
              "    }\n",
              "\n",
              "    .colab-df-convert:hover {\n",
              "      background-color: #E2EBFA;\n",
              "      box-shadow: 0px 1px 2px rgba(60, 64, 67, 0.3), 0px 1px 3px 1px rgba(60, 64, 67, 0.15);\n",
              "      fill: #174EA6;\n",
              "    }\n",
              "\n",
              "    .colab-df-buttons div {\n",
              "      margin-bottom: 4px;\n",
              "    }\n",
              "\n",
              "    [theme=dark] .colab-df-convert {\n",
              "      background-color: #3B4455;\n",
              "      fill: #D2E3FC;\n",
              "    }\n",
              "\n",
              "    [theme=dark] .colab-df-convert:hover {\n",
              "      background-color: #434B5C;\n",
              "      box-shadow: 0px 1px 3px 1px rgba(0, 0, 0, 0.15);\n",
              "      filter: drop-shadow(0px 1px 2px rgba(0, 0, 0, 0.3));\n",
              "      fill: #FFFFFF;\n",
              "    }\n",
              "  </style>\n",
              "\n",
              "    <script>\n",
              "      const buttonEl =\n",
              "        document.querySelector('#df-acdb9333-bf41-44e5-94f1-60d1c9e74bd4 button.colab-df-convert');\n",
              "      buttonEl.style.display =\n",
              "        google.colab.kernel.accessAllowed ? 'block' : 'none';\n",
              "\n",
              "      async function convertToInteractive(key) {\n",
              "        const element = document.querySelector('#df-acdb9333-bf41-44e5-94f1-60d1c9e74bd4');\n",
              "        const dataTable =\n",
              "          await google.colab.kernel.invokeFunction('convertToInteractive',\n",
              "                                                    [key], {});\n",
              "        if (!dataTable) return;\n",
              "\n",
              "        const docLinkHtml = 'Like what you see? Visit the ' +\n",
              "          '<a target=\"_blank\" href=https://colab.research.google.com/notebooks/data_table.ipynb>data table notebook</a>'\n",
              "          + ' to learn more about interactive tables.';\n",
              "        element.innerHTML = '';\n",
              "        dataTable['output_type'] = 'display_data';\n",
              "        await google.colab.output.renderOutput(dataTable, element);\n",
              "        const docLink = document.createElement('div');\n",
              "        docLink.innerHTML = docLinkHtml;\n",
              "        element.appendChild(docLink);\n",
              "      }\n",
              "    </script>\n",
              "  </div>\n",
              "\n",
              "\n",
              "    <div id=\"df-fea1c18f-6877-435a-abda-42a719a188f2\">\n",
              "      <button class=\"colab-df-quickchart\" onclick=\"quickchart('df-fea1c18f-6877-435a-abda-42a719a188f2')\"\n",
              "                title=\"Suggest charts\"\n",
              "                style=\"display:none;\">\n",
              "\n",
              "<svg xmlns=\"http://www.w3.org/2000/svg\" height=\"24px\"viewBox=\"0 0 24 24\"\n",
              "     width=\"24px\">\n",
              "    <g>\n",
              "        <path d=\"M19 3H5c-1.1 0-2 .9-2 2v14c0 1.1.9 2 2 2h14c1.1 0 2-.9 2-2V5c0-1.1-.9-2-2-2zM9 17H7v-7h2v7zm4 0h-2V7h2v10zm4 0h-2v-4h2v4z\"/>\n",
              "    </g>\n",
              "</svg>\n",
              "      </button>\n",
              "\n",
              "<style>\n",
              "  .colab-df-quickchart {\n",
              "      --bg-color: #E8F0FE;\n",
              "      --fill-color: #1967D2;\n",
              "      --hover-bg-color: #E2EBFA;\n",
              "      --hover-fill-color: #174EA6;\n",
              "      --disabled-fill-color: #AAA;\n",
              "      --disabled-bg-color: #DDD;\n",
              "  }\n",
              "\n",
              "  [theme=dark] .colab-df-quickchart {\n",
              "      --bg-color: #3B4455;\n",
              "      --fill-color: #D2E3FC;\n",
              "      --hover-bg-color: #434B5C;\n",
              "      --hover-fill-color: #FFFFFF;\n",
              "      --disabled-bg-color: #3B4455;\n",
              "      --disabled-fill-color: #666;\n",
              "  }\n",
              "\n",
              "  .colab-df-quickchart {\n",
              "    background-color: var(--bg-color);\n",
              "    border: none;\n",
              "    border-radius: 50%;\n",
              "    cursor: pointer;\n",
              "    display: none;\n",
              "    fill: var(--fill-color);\n",
              "    height: 32px;\n",
              "    padding: 0;\n",
              "    width: 32px;\n",
              "  }\n",
              "\n",
              "  .colab-df-quickchart:hover {\n",
              "    background-color: var(--hover-bg-color);\n",
              "    box-shadow: 0 1px 2px rgba(60, 64, 67, 0.3), 0 1px 3px 1px rgba(60, 64, 67, 0.15);\n",
              "    fill: var(--button-hover-fill-color);\n",
              "  }\n",
              "\n",
              "  .colab-df-quickchart-complete:disabled,\n",
              "  .colab-df-quickchart-complete:disabled:hover {\n",
              "    background-color: var(--disabled-bg-color);\n",
              "    fill: var(--disabled-fill-color);\n",
              "    box-shadow: none;\n",
              "  }\n",
              "\n",
              "  .colab-df-spinner {\n",
              "    border: 2px solid var(--fill-color);\n",
              "    border-color: transparent;\n",
              "    border-bottom-color: var(--fill-color);\n",
              "    animation:\n",
              "      spin 1s steps(1) infinite;\n",
              "  }\n",
              "\n",
              "  @keyframes spin {\n",
              "    0% {\n",
              "      border-color: transparent;\n",
              "      border-bottom-color: var(--fill-color);\n",
              "      border-left-color: var(--fill-color);\n",
              "    }\n",
              "    20% {\n",
              "      border-color: transparent;\n",
              "      border-left-color: var(--fill-color);\n",
              "      border-top-color: var(--fill-color);\n",
              "    }\n",
              "    30% {\n",
              "      border-color: transparent;\n",
              "      border-left-color: var(--fill-color);\n",
              "      border-top-color: var(--fill-color);\n",
              "      border-right-color: var(--fill-color);\n",
              "    }\n",
              "    40% {\n",
              "      border-color: transparent;\n",
              "      border-right-color: var(--fill-color);\n",
              "      border-top-color: var(--fill-color);\n",
              "    }\n",
              "    60% {\n",
              "      border-color: transparent;\n",
              "      border-right-color: var(--fill-color);\n",
              "    }\n",
              "    80% {\n",
              "      border-color: transparent;\n",
              "      border-right-color: var(--fill-color);\n",
              "      border-bottom-color: var(--fill-color);\n",
              "    }\n",
              "    90% {\n",
              "      border-color: transparent;\n",
              "      border-bottom-color: var(--fill-color);\n",
              "    }\n",
              "  }\n",
              "</style>\n",
              "\n",
              "      <script>\n",
              "        async function quickchart(key) {\n",
              "          const quickchartButtonEl =\n",
              "            document.querySelector('#' + key + ' button');\n",
              "          quickchartButtonEl.disabled = true;  // To prevent multiple clicks.\n",
              "          quickchartButtonEl.classList.add('colab-df-spinner');\n",
              "          try {\n",
              "            const charts = await google.colab.kernel.invokeFunction(\n",
              "                'suggestCharts', [key], {});\n",
              "          } catch (error) {\n",
              "            console.error('Error during call to suggestCharts:', error);\n",
              "          }\n",
              "          quickchartButtonEl.classList.remove('colab-df-spinner');\n",
              "          quickchartButtonEl.classList.add('colab-df-quickchart-complete');\n",
              "        }\n",
              "        (() => {\n",
              "          let quickchartButtonEl =\n",
              "            document.querySelector('#df-fea1c18f-6877-435a-abda-42a719a188f2 button');\n",
              "          quickchartButtonEl.style.display =\n",
              "            google.colab.kernel.accessAllowed ? 'block' : 'none';\n",
              "        })();\n",
              "      </script>\n",
              "    </div>\n",
              "    </div>\n",
              "  </div>\n"
            ],
            "application/vnd.google.colaboratory.intrinsic+json": {
              "type": "dataframe"
            }
          },
          "metadata": {},
          "execution_count": 70
        }
      ]
    },
    {
      "cell_type": "markdown",
      "source": [
        "\n",
        "1.   У всех этих рейсов не указано время вылета и прибытия, то есть они отменены. DepTime, ArrTime.\n",
        "2.   CarrierDelay,\tWeatherDelay,\tNASDelay,\tSecurityDelay, LateAircraftDelay - эти столбцы с пропущенным значением целевой переменной.\n",
        "3. Diverted - 0, значит рейсы не были перенаправлены.\n",
        "4. CRSDepTime, CRSArrTime - это столбцы с местным временем вылета и прибытия, я думаю их можно исключить.\n",
        "5. TaxiIn,\tTaxiOut - эти столбцы с пропущенным значением целевой переменной.\n",
        "\n",
        "\n",
        "\n"
      ],
      "metadata": {
        "id": "NipzHPg2MJYS"
      }
    },
    {
      "cell_type": "markdown",
      "metadata": {
        "id": "xroGv6IxAmeh"
      },
      "source": [
        "**13. (0.5 балла)** Обратите внимание, что признаки DepTime, CRSDepTime, ArrTime, CRSArrTime приведены в формате hhmm, в связи с чем будет не вполне корректно рассматривать их как вещественные.\n",
        "\n",
        "Преобразуйте каждый признак FeatureName из указанных в пару новых признаков FeatureName\\_Hour, FeatureName\\_Minute, разделив каждое из значений на часы и минуты. Не забудьте при этом исключить исходный признак из выборки. В случае, если значение признака отсутствует, значения двух новых признаков, его заменяющих, также должны отсутствовать.\n",
        "\n",
        "Например, признак DepTime необходимо заменить на пару признаков DepTime_Hour, DepTime_Minute. При этом, например, значение 155 исходного признака будет преобразовано в значения 1 и 55 признаков DepTime_Hour, DepTime_Minute соответственно."
      ]
    },
    {
      "cell_type": "code",
      "source": [
        "print(df.columns)"
      ],
      "metadata": {
        "colab": {
          "base_uri": "https://localhost:8080/"
        },
        "id": "oM_PyNTFW8me",
        "outputId": "63daaeae-cc08-4590-b0a3-732ccacc7e38"
      },
      "execution_count": 71,
      "outputs": [
        {
          "output_type": "stream",
          "name": "stdout",
          "text": [
            "Index(['Year', 'Month', 'DayofMonth', 'DayOfWeek', 'DepTime', 'CRSDepTime',\n",
            "       'ArrTime', 'CRSArrTime', 'UniqueCarrier', 'FlightNum', 'TailNum',\n",
            "       'ActualElapsedTime', 'CRSElapsedTime', 'AirTime', 'ArrDelay',\n",
            "       'DepDelay', 'Origin', 'Dest', 'Distance', 'TaxiIn', 'TaxiOut',\n",
            "       'Cancelled', 'CancellationCode', 'Diverted', 'CarrierDelay',\n",
            "       'WeatherDelay', 'NASDelay', 'SecurityDelay', 'LateAircraftDelay'],\n",
            "      dtype='object')\n"
          ]
        }
      ]
    },
    {
      "cell_type": "code",
      "execution_count": 72,
      "metadata": {
        "collapsed": true,
        "colab": {
          "base_uri": "https://localhost:8080/",
          "height": 255
        },
        "id": "gk04jHbtAmei",
        "outputId": "9d5f84e7-79d1-44c5-f383-179feb001c3e"
      },
      "outputs": [
        {
          "output_type": "execute_result",
          "data": {
            "text/plain": [
              "   Year  Month  DayofMonth  DayOfWeek UniqueCarrier  FlightNum TailNum  \\\n",
              "0  2008      6          18          3            WN        242  N699SW   \n",
              "1  2008      6           4          3            XE       2380  N15980   \n",
              "2  2008      8           3          7            WN       1769  N464WN   \n",
              "3  2008      1          23          3            OO       3802  N465SW   \n",
              "4  2008      5           4          7            WN        399  N489WN   \n",
              "\n",
              "   ActualElapsedTime  CRSElapsedTime  AirTime  ...  SecurityDelay  \\\n",
              "0               57.0            65.0     46.0  ...            NaN   \n",
              "1              124.0           138.0    108.0  ...            NaN   \n",
              "2              138.0           155.0    125.0  ...            NaN   \n",
              "3              102.0           111.0     79.0  ...            NaN   \n",
              "4              148.0           160.0    136.0  ...            NaN   \n",
              "\n",
              "   LateAircraftDelay DepTime_Hour DepTime_Minute  CRSDepTime_Hour  \\\n",
              "0                NaN         21.0           11.0               20   \n",
              "1                NaN         14.0           26.0               14   \n",
              "2                NaN         11.0           43.0               11   \n",
              "3                NaN         11.0           41.0               11   \n",
              "4                NaN          8.0           15.0                8   \n",
              "\n",
              "   CRSDepTime_Minute  ArrTime_Hour  ArrTime_Minute CRSArrTime_Hour  \\\n",
              "0                 55          23.0             8.0              23   \n",
              "1                 10          17.0            30.0              17   \n",
              "2                 45          15.0             1.0              15   \n",
              "3                 44          13.0            23.0              13   \n",
              "4                 20          12.0            43.0              13   \n",
              "\n",
              "   CRSArrTime_Minute  \n",
              "0                  0  \n",
              "1                 28  \n",
              "2                 20  \n",
              "3                 35  \n",
              "4                  0  \n",
              "\n",
              "[5 rows x 33 columns]"
            ],
            "text/html": [
              "\n",
              "  <div id=\"df-19f011a3-d326-4a65-9a4f-e861e812e7bc\" class=\"colab-df-container\">\n",
              "    <div>\n",
              "<style scoped>\n",
              "    .dataframe tbody tr th:only-of-type {\n",
              "        vertical-align: middle;\n",
              "    }\n",
              "\n",
              "    .dataframe tbody tr th {\n",
              "        vertical-align: top;\n",
              "    }\n",
              "\n",
              "    .dataframe thead th {\n",
              "        text-align: right;\n",
              "    }\n",
              "</style>\n",
              "<table border=\"1\" class=\"dataframe\">\n",
              "  <thead>\n",
              "    <tr style=\"text-align: right;\">\n",
              "      <th></th>\n",
              "      <th>Year</th>\n",
              "      <th>Month</th>\n",
              "      <th>DayofMonth</th>\n",
              "      <th>DayOfWeek</th>\n",
              "      <th>UniqueCarrier</th>\n",
              "      <th>FlightNum</th>\n",
              "      <th>TailNum</th>\n",
              "      <th>ActualElapsedTime</th>\n",
              "      <th>CRSElapsedTime</th>\n",
              "      <th>AirTime</th>\n",
              "      <th>...</th>\n",
              "      <th>SecurityDelay</th>\n",
              "      <th>LateAircraftDelay</th>\n",
              "      <th>DepTime_Hour</th>\n",
              "      <th>DepTime_Minute</th>\n",
              "      <th>CRSDepTime_Hour</th>\n",
              "      <th>CRSDepTime_Minute</th>\n",
              "      <th>ArrTime_Hour</th>\n",
              "      <th>ArrTime_Minute</th>\n",
              "      <th>CRSArrTime_Hour</th>\n",
              "      <th>CRSArrTime_Minute</th>\n",
              "    </tr>\n",
              "  </thead>\n",
              "  <tbody>\n",
              "    <tr>\n",
              "      <th>0</th>\n",
              "      <td>2008</td>\n",
              "      <td>6</td>\n",
              "      <td>18</td>\n",
              "      <td>3</td>\n",
              "      <td>WN</td>\n",
              "      <td>242</td>\n",
              "      <td>N699SW</td>\n",
              "      <td>57.0</td>\n",
              "      <td>65.0</td>\n",
              "      <td>46.0</td>\n",
              "      <td>...</td>\n",
              "      <td>NaN</td>\n",
              "      <td>NaN</td>\n",
              "      <td>21.0</td>\n",
              "      <td>11.0</td>\n",
              "      <td>20</td>\n",
              "      <td>55</td>\n",
              "      <td>23.0</td>\n",
              "      <td>8.0</td>\n",
              "      <td>23</td>\n",
              "      <td>0</td>\n",
              "    </tr>\n",
              "    <tr>\n",
              "      <th>1</th>\n",
              "      <td>2008</td>\n",
              "      <td>6</td>\n",
              "      <td>4</td>\n",
              "      <td>3</td>\n",
              "      <td>XE</td>\n",
              "      <td>2380</td>\n",
              "      <td>N15980</td>\n",
              "      <td>124.0</td>\n",
              "      <td>138.0</td>\n",
              "      <td>108.0</td>\n",
              "      <td>...</td>\n",
              "      <td>NaN</td>\n",
              "      <td>NaN</td>\n",
              "      <td>14.0</td>\n",
              "      <td>26.0</td>\n",
              "      <td>14</td>\n",
              "      <td>10</td>\n",
              "      <td>17.0</td>\n",
              "      <td>30.0</td>\n",
              "      <td>17</td>\n",
              "      <td>28</td>\n",
              "    </tr>\n",
              "    <tr>\n",
              "      <th>2</th>\n",
              "      <td>2008</td>\n",
              "      <td>8</td>\n",
              "      <td>3</td>\n",
              "      <td>7</td>\n",
              "      <td>WN</td>\n",
              "      <td>1769</td>\n",
              "      <td>N464WN</td>\n",
              "      <td>138.0</td>\n",
              "      <td>155.0</td>\n",
              "      <td>125.0</td>\n",
              "      <td>...</td>\n",
              "      <td>NaN</td>\n",
              "      <td>NaN</td>\n",
              "      <td>11.0</td>\n",
              "      <td>43.0</td>\n",
              "      <td>11</td>\n",
              "      <td>45</td>\n",
              "      <td>15.0</td>\n",
              "      <td>1.0</td>\n",
              "      <td>15</td>\n",
              "      <td>20</td>\n",
              "    </tr>\n",
              "    <tr>\n",
              "      <th>3</th>\n",
              "      <td>2008</td>\n",
              "      <td>1</td>\n",
              "      <td>23</td>\n",
              "      <td>3</td>\n",
              "      <td>OO</td>\n",
              "      <td>3802</td>\n",
              "      <td>N465SW</td>\n",
              "      <td>102.0</td>\n",
              "      <td>111.0</td>\n",
              "      <td>79.0</td>\n",
              "      <td>...</td>\n",
              "      <td>NaN</td>\n",
              "      <td>NaN</td>\n",
              "      <td>11.0</td>\n",
              "      <td>41.0</td>\n",
              "      <td>11</td>\n",
              "      <td>44</td>\n",
              "      <td>13.0</td>\n",
              "      <td>23.0</td>\n",
              "      <td>13</td>\n",
              "      <td>35</td>\n",
              "    </tr>\n",
              "    <tr>\n",
              "      <th>4</th>\n",
              "      <td>2008</td>\n",
              "      <td>5</td>\n",
              "      <td>4</td>\n",
              "      <td>7</td>\n",
              "      <td>WN</td>\n",
              "      <td>399</td>\n",
              "      <td>N489WN</td>\n",
              "      <td>148.0</td>\n",
              "      <td>160.0</td>\n",
              "      <td>136.0</td>\n",
              "      <td>...</td>\n",
              "      <td>NaN</td>\n",
              "      <td>NaN</td>\n",
              "      <td>8.0</td>\n",
              "      <td>15.0</td>\n",
              "      <td>8</td>\n",
              "      <td>20</td>\n",
              "      <td>12.0</td>\n",
              "      <td>43.0</td>\n",
              "      <td>13</td>\n",
              "      <td>0</td>\n",
              "    </tr>\n",
              "  </tbody>\n",
              "</table>\n",
              "<p>5 rows × 33 columns</p>\n",
              "</div>\n",
              "    <div class=\"colab-df-buttons\">\n",
              "\n",
              "  <div class=\"colab-df-container\">\n",
              "    <button class=\"colab-df-convert\" onclick=\"convertToInteractive('df-19f011a3-d326-4a65-9a4f-e861e812e7bc')\"\n",
              "            title=\"Convert this dataframe to an interactive table.\"\n",
              "            style=\"display:none;\">\n",
              "\n",
              "  <svg xmlns=\"http://www.w3.org/2000/svg\" height=\"24px\" viewBox=\"0 -960 960 960\">\n",
              "    <path d=\"M120-120v-720h720v720H120Zm60-500h600v-160H180v160Zm220 220h160v-160H400v160Zm0 220h160v-160H400v160ZM180-400h160v-160H180v160Zm440 0h160v-160H620v160ZM180-180h160v-160H180v160Zm440 0h160v-160H620v160Z\"/>\n",
              "  </svg>\n",
              "    </button>\n",
              "\n",
              "  <style>\n",
              "    .colab-df-container {\n",
              "      display:flex;\n",
              "      gap: 12px;\n",
              "    }\n",
              "\n",
              "    .colab-df-convert {\n",
              "      background-color: #E8F0FE;\n",
              "      border: none;\n",
              "      border-radius: 50%;\n",
              "      cursor: pointer;\n",
              "      display: none;\n",
              "      fill: #1967D2;\n",
              "      height: 32px;\n",
              "      padding: 0 0 0 0;\n",
              "      width: 32px;\n",
              "    }\n",
              "\n",
              "    .colab-df-convert:hover {\n",
              "      background-color: #E2EBFA;\n",
              "      box-shadow: 0px 1px 2px rgba(60, 64, 67, 0.3), 0px 1px 3px 1px rgba(60, 64, 67, 0.15);\n",
              "      fill: #174EA6;\n",
              "    }\n",
              "\n",
              "    .colab-df-buttons div {\n",
              "      margin-bottom: 4px;\n",
              "    }\n",
              "\n",
              "    [theme=dark] .colab-df-convert {\n",
              "      background-color: #3B4455;\n",
              "      fill: #D2E3FC;\n",
              "    }\n",
              "\n",
              "    [theme=dark] .colab-df-convert:hover {\n",
              "      background-color: #434B5C;\n",
              "      box-shadow: 0px 1px 3px 1px rgba(0, 0, 0, 0.15);\n",
              "      filter: drop-shadow(0px 1px 2px rgba(0, 0, 0, 0.3));\n",
              "      fill: #FFFFFF;\n",
              "    }\n",
              "  </style>\n",
              "\n",
              "    <script>\n",
              "      const buttonEl =\n",
              "        document.querySelector('#df-19f011a3-d326-4a65-9a4f-e861e812e7bc button.colab-df-convert');\n",
              "      buttonEl.style.display =\n",
              "        google.colab.kernel.accessAllowed ? 'block' : 'none';\n",
              "\n",
              "      async function convertToInteractive(key) {\n",
              "        const element = document.querySelector('#df-19f011a3-d326-4a65-9a4f-e861e812e7bc');\n",
              "        const dataTable =\n",
              "          await google.colab.kernel.invokeFunction('convertToInteractive',\n",
              "                                                    [key], {});\n",
              "        if (!dataTable) return;\n",
              "\n",
              "        const docLinkHtml = 'Like what you see? Visit the ' +\n",
              "          '<a target=\"_blank\" href=https://colab.research.google.com/notebooks/data_table.ipynb>data table notebook</a>'\n",
              "          + ' to learn more about interactive tables.';\n",
              "        element.innerHTML = '';\n",
              "        dataTable['output_type'] = 'display_data';\n",
              "        await google.colab.output.renderOutput(dataTable, element);\n",
              "        const docLink = document.createElement('div');\n",
              "        docLink.innerHTML = docLinkHtml;\n",
              "        element.appendChild(docLink);\n",
              "      }\n",
              "    </script>\n",
              "  </div>\n",
              "\n",
              "\n",
              "    <div id=\"df-89849894-0acd-4e01-9650-5feea07e8a92\">\n",
              "      <button class=\"colab-df-quickchart\" onclick=\"quickchart('df-89849894-0acd-4e01-9650-5feea07e8a92')\"\n",
              "                title=\"Suggest charts\"\n",
              "                style=\"display:none;\">\n",
              "\n",
              "<svg xmlns=\"http://www.w3.org/2000/svg\" height=\"24px\"viewBox=\"0 0 24 24\"\n",
              "     width=\"24px\">\n",
              "    <g>\n",
              "        <path d=\"M19 3H5c-1.1 0-2 .9-2 2v14c0 1.1.9 2 2 2h14c1.1 0 2-.9 2-2V5c0-1.1-.9-2-2-2zM9 17H7v-7h2v7zm4 0h-2V7h2v10zm4 0h-2v-4h2v4z\"/>\n",
              "    </g>\n",
              "</svg>\n",
              "      </button>\n",
              "\n",
              "<style>\n",
              "  .colab-df-quickchart {\n",
              "      --bg-color: #E8F0FE;\n",
              "      --fill-color: #1967D2;\n",
              "      --hover-bg-color: #E2EBFA;\n",
              "      --hover-fill-color: #174EA6;\n",
              "      --disabled-fill-color: #AAA;\n",
              "      --disabled-bg-color: #DDD;\n",
              "  }\n",
              "\n",
              "  [theme=dark] .colab-df-quickchart {\n",
              "      --bg-color: #3B4455;\n",
              "      --fill-color: #D2E3FC;\n",
              "      --hover-bg-color: #434B5C;\n",
              "      --hover-fill-color: #FFFFFF;\n",
              "      --disabled-bg-color: #3B4455;\n",
              "      --disabled-fill-color: #666;\n",
              "  }\n",
              "\n",
              "  .colab-df-quickchart {\n",
              "    background-color: var(--bg-color);\n",
              "    border: none;\n",
              "    border-radius: 50%;\n",
              "    cursor: pointer;\n",
              "    display: none;\n",
              "    fill: var(--fill-color);\n",
              "    height: 32px;\n",
              "    padding: 0;\n",
              "    width: 32px;\n",
              "  }\n",
              "\n",
              "  .colab-df-quickchart:hover {\n",
              "    background-color: var(--hover-bg-color);\n",
              "    box-shadow: 0 1px 2px rgba(60, 64, 67, 0.3), 0 1px 3px 1px rgba(60, 64, 67, 0.15);\n",
              "    fill: var(--button-hover-fill-color);\n",
              "  }\n",
              "\n",
              "  .colab-df-quickchart-complete:disabled,\n",
              "  .colab-df-quickchart-complete:disabled:hover {\n",
              "    background-color: var(--disabled-bg-color);\n",
              "    fill: var(--disabled-fill-color);\n",
              "    box-shadow: none;\n",
              "  }\n",
              "\n",
              "  .colab-df-spinner {\n",
              "    border: 2px solid var(--fill-color);\n",
              "    border-color: transparent;\n",
              "    border-bottom-color: var(--fill-color);\n",
              "    animation:\n",
              "      spin 1s steps(1) infinite;\n",
              "  }\n",
              "\n",
              "  @keyframes spin {\n",
              "    0% {\n",
              "      border-color: transparent;\n",
              "      border-bottom-color: var(--fill-color);\n",
              "      border-left-color: var(--fill-color);\n",
              "    }\n",
              "    20% {\n",
              "      border-color: transparent;\n",
              "      border-left-color: var(--fill-color);\n",
              "      border-top-color: var(--fill-color);\n",
              "    }\n",
              "    30% {\n",
              "      border-color: transparent;\n",
              "      border-left-color: var(--fill-color);\n",
              "      border-top-color: var(--fill-color);\n",
              "      border-right-color: var(--fill-color);\n",
              "    }\n",
              "    40% {\n",
              "      border-color: transparent;\n",
              "      border-right-color: var(--fill-color);\n",
              "      border-top-color: var(--fill-color);\n",
              "    }\n",
              "    60% {\n",
              "      border-color: transparent;\n",
              "      border-right-color: var(--fill-color);\n",
              "    }\n",
              "    80% {\n",
              "      border-color: transparent;\n",
              "      border-right-color: var(--fill-color);\n",
              "      border-bottom-color: var(--fill-color);\n",
              "    }\n",
              "    90% {\n",
              "      border-color: transparent;\n",
              "      border-bottom-color: var(--fill-color);\n",
              "    }\n",
              "  }\n",
              "</style>\n",
              "\n",
              "      <script>\n",
              "        async function quickchart(key) {\n",
              "          const quickchartButtonEl =\n",
              "            document.querySelector('#' + key + ' button');\n",
              "          quickchartButtonEl.disabled = true;  // To prevent multiple clicks.\n",
              "          quickchartButtonEl.classList.add('colab-df-spinner');\n",
              "          try {\n",
              "            const charts = await google.colab.kernel.invokeFunction(\n",
              "                'suggestCharts', [key], {});\n",
              "          } catch (error) {\n",
              "            console.error('Error during call to suggestCharts:', error);\n",
              "          }\n",
              "          quickchartButtonEl.classList.remove('colab-df-spinner');\n",
              "          quickchartButtonEl.classList.add('colab-df-quickchart-complete');\n",
              "        }\n",
              "        (() => {\n",
              "          let quickchartButtonEl =\n",
              "            document.querySelector('#df-89849894-0acd-4e01-9650-5feea07e8a92 button');\n",
              "          quickchartButtonEl.style.display =\n",
              "            google.colab.kernel.accessAllowed ? 'block' : 'none';\n",
              "        })();\n",
              "      </script>\n",
              "    </div>\n",
              "    </div>\n",
              "  </div>\n"
            ],
            "application/vnd.google.colaboratory.intrinsic+json": {
              "type": "dataframe",
              "variable_name": "df"
            }
          },
          "metadata": {},
          "execution_count": 72
        }
      ],
      "source": [
        "columns = ['DepTime', 'CRSDepTime', 'ArrTime', 'CRSArrTime']\n",
        "for col in columns:\n",
        "    df[col + '_Hour'] = df[col] // 100\n",
        "    df[col + '_Minute'] = df[col] % 100\n",
        "df = df.drop(columns=columns)\n",
        "df.head()"
      ]
    },
    {
      "cell_type": "markdown",
      "metadata": {
        "id": "adMK1QDZAmei"
      },
      "source": [
        "**14. (0.5 балла)** Некоторые из признаков, отличных от целевой переменной, могут оказывать чересчур значимое влияние на прогноз, поскольку по своему смыслу содержат большую долю информации о значении целевой переменной. Изучите описание датасета и исключите признаки, сильно коррелирующие с ответами. Ваш выбор признаков для исключения из выборки обоснуйте. Кроме того, исключите признаки TailNum и Year."
      ]
    },
    {
      "cell_type": "code",
      "execution_count": 73,
      "metadata": {
        "collapsed": true,
        "id": "WYm42PJBAmek"
      },
      "outputs": [],
      "source": [
        "df = df.drop(columns=['TailNum', 'Year'], errors='ignore')\n",
        "\n",
        "k = ['ArrDelay', 'LateAircraftDelay', 'CarrierDelay', 'WeatherDelay', 'NASDelay']\n",
        "\n",
        "df = df.drop(columns=[col for col in k if col in df.columns])"
      ]
    },
    {
      "cell_type": "code",
      "source": [
        "df.head()"
      ],
      "metadata": {
        "colab": {
          "base_uri": "https://localhost:8080/",
          "height": 255
        },
        "id": "WwLvW-8lFx3y",
        "outputId": "93508092-463d-4226-8529-3976a8b05512"
      },
      "execution_count": 74,
      "outputs": [
        {
          "output_type": "execute_result",
          "data": {
            "text/plain": [
              "   Month  DayofMonth  DayOfWeek UniqueCarrier  FlightNum  ActualElapsedTime  \\\n",
              "0      6          18          3            WN        242               57.0   \n",
              "1      6           4          3            XE       2380              124.0   \n",
              "2      8           3          7            WN       1769              138.0   \n",
              "3      1          23          3            OO       3802              102.0   \n",
              "4      5           4          7            WN        399              148.0   \n",
              "\n",
              "   CRSElapsedTime  AirTime  DepDelay Origin  ... Diverted  SecurityDelay  \\\n",
              "0            65.0     46.0      16.0    MDW  ...        0            NaN   \n",
              "1           138.0    108.0      16.0    IAH  ...        0            NaN   \n",
              "2           155.0    125.0      -2.0    MDW  ...        0            NaN   \n",
              "3           111.0     79.0      -3.0    SLC  ...        0            NaN   \n",
              "4           160.0    136.0      -5.0    LAS  ...        0            NaN   \n",
              "\n",
              "   DepTime_Hour  DepTime_Minute  CRSDepTime_Hour CRSDepTime_Minute  \\\n",
              "0          21.0            11.0               20                55   \n",
              "1          14.0            26.0               14                10   \n",
              "2          11.0            43.0               11                45   \n",
              "3          11.0            41.0               11                44   \n",
              "4           8.0            15.0                8                20   \n",
              "\n",
              "   ArrTime_Hour  ArrTime_Minute  CRSArrTime_Hour  CRSArrTime_Minute  \n",
              "0          23.0             8.0               23                  0  \n",
              "1          17.0            30.0               17                 28  \n",
              "2          15.0             1.0               15                 20  \n",
              "3          13.0            23.0               13                 35  \n",
              "4          12.0            43.0               13                  0  \n",
              "\n",
              "[5 rows x 26 columns]"
            ],
            "text/html": [
              "\n",
              "  <div id=\"df-fff66d72-8256-44b5-b036-32fe3d3863c9\" class=\"colab-df-container\">\n",
              "    <div>\n",
              "<style scoped>\n",
              "    .dataframe tbody tr th:only-of-type {\n",
              "        vertical-align: middle;\n",
              "    }\n",
              "\n",
              "    .dataframe tbody tr th {\n",
              "        vertical-align: top;\n",
              "    }\n",
              "\n",
              "    .dataframe thead th {\n",
              "        text-align: right;\n",
              "    }\n",
              "</style>\n",
              "<table border=\"1\" class=\"dataframe\">\n",
              "  <thead>\n",
              "    <tr style=\"text-align: right;\">\n",
              "      <th></th>\n",
              "      <th>Month</th>\n",
              "      <th>DayofMonth</th>\n",
              "      <th>DayOfWeek</th>\n",
              "      <th>UniqueCarrier</th>\n",
              "      <th>FlightNum</th>\n",
              "      <th>ActualElapsedTime</th>\n",
              "      <th>CRSElapsedTime</th>\n",
              "      <th>AirTime</th>\n",
              "      <th>DepDelay</th>\n",
              "      <th>Origin</th>\n",
              "      <th>...</th>\n",
              "      <th>Diverted</th>\n",
              "      <th>SecurityDelay</th>\n",
              "      <th>DepTime_Hour</th>\n",
              "      <th>DepTime_Minute</th>\n",
              "      <th>CRSDepTime_Hour</th>\n",
              "      <th>CRSDepTime_Minute</th>\n",
              "      <th>ArrTime_Hour</th>\n",
              "      <th>ArrTime_Minute</th>\n",
              "      <th>CRSArrTime_Hour</th>\n",
              "      <th>CRSArrTime_Minute</th>\n",
              "    </tr>\n",
              "  </thead>\n",
              "  <tbody>\n",
              "    <tr>\n",
              "      <th>0</th>\n",
              "      <td>6</td>\n",
              "      <td>18</td>\n",
              "      <td>3</td>\n",
              "      <td>WN</td>\n",
              "      <td>242</td>\n",
              "      <td>57.0</td>\n",
              "      <td>65.0</td>\n",
              "      <td>46.0</td>\n",
              "      <td>16.0</td>\n",
              "      <td>MDW</td>\n",
              "      <td>...</td>\n",
              "      <td>0</td>\n",
              "      <td>NaN</td>\n",
              "      <td>21.0</td>\n",
              "      <td>11.0</td>\n",
              "      <td>20</td>\n",
              "      <td>55</td>\n",
              "      <td>23.0</td>\n",
              "      <td>8.0</td>\n",
              "      <td>23</td>\n",
              "      <td>0</td>\n",
              "    </tr>\n",
              "    <tr>\n",
              "      <th>1</th>\n",
              "      <td>6</td>\n",
              "      <td>4</td>\n",
              "      <td>3</td>\n",
              "      <td>XE</td>\n",
              "      <td>2380</td>\n",
              "      <td>124.0</td>\n",
              "      <td>138.0</td>\n",
              "      <td>108.0</td>\n",
              "      <td>16.0</td>\n",
              "      <td>IAH</td>\n",
              "      <td>...</td>\n",
              "      <td>0</td>\n",
              "      <td>NaN</td>\n",
              "      <td>14.0</td>\n",
              "      <td>26.0</td>\n",
              "      <td>14</td>\n",
              "      <td>10</td>\n",
              "      <td>17.0</td>\n",
              "      <td>30.0</td>\n",
              "      <td>17</td>\n",
              "      <td>28</td>\n",
              "    </tr>\n",
              "    <tr>\n",
              "      <th>2</th>\n",
              "      <td>8</td>\n",
              "      <td>3</td>\n",
              "      <td>7</td>\n",
              "      <td>WN</td>\n",
              "      <td>1769</td>\n",
              "      <td>138.0</td>\n",
              "      <td>155.0</td>\n",
              "      <td>125.0</td>\n",
              "      <td>-2.0</td>\n",
              "      <td>MDW</td>\n",
              "      <td>...</td>\n",
              "      <td>0</td>\n",
              "      <td>NaN</td>\n",
              "      <td>11.0</td>\n",
              "      <td>43.0</td>\n",
              "      <td>11</td>\n",
              "      <td>45</td>\n",
              "      <td>15.0</td>\n",
              "      <td>1.0</td>\n",
              "      <td>15</td>\n",
              "      <td>20</td>\n",
              "    </tr>\n",
              "    <tr>\n",
              "      <th>3</th>\n",
              "      <td>1</td>\n",
              "      <td>23</td>\n",
              "      <td>3</td>\n",
              "      <td>OO</td>\n",
              "      <td>3802</td>\n",
              "      <td>102.0</td>\n",
              "      <td>111.0</td>\n",
              "      <td>79.0</td>\n",
              "      <td>-3.0</td>\n",
              "      <td>SLC</td>\n",
              "      <td>...</td>\n",
              "      <td>0</td>\n",
              "      <td>NaN</td>\n",
              "      <td>11.0</td>\n",
              "      <td>41.0</td>\n",
              "      <td>11</td>\n",
              "      <td>44</td>\n",
              "      <td>13.0</td>\n",
              "      <td>23.0</td>\n",
              "      <td>13</td>\n",
              "      <td>35</td>\n",
              "    </tr>\n",
              "    <tr>\n",
              "      <th>4</th>\n",
              "      <td>5</td>\n",
              "      <td>4</td>\n",
              "      <td>7</td>\n",
              "      <td>WN</td>\n",
              "      <td>399</td>\n",
              "      <td>148.0</td>\n",
              "      <td>160.0</td>\n",
              "      <td>136.0</td>\n",
              "      <td>-5.0</td>\n",
              "      <td>LAS</td>\n",
              "      <td>...</td>\n",
              "      <td>0</td>\n",
              "      <td>NaN</td>\n",
              "      <td>8.0</td>\n",
              "      <td>15.0</td>\n",
              "      <td>8</td>\n",
              "      <td>20</td>\n",
              "      <td>12.0</td>\n",
              "      <td>43.0</td>\n",
              "      <td>13</td>\n",
              "      <td>0</td>\n",
              "    </tr>\n",
              "  </tbody>\n",
              "</table>\n",
              "<p>5 rows × 26 columns</p>\n",
              "</div>\n",
              "    <div class=\"colab-df-buttons\">\n",
              "\n",
              "  <div class=\"colab-df-container\">\n",
              "    <button class=\"colab-df-convert\" onclick=\"convertToInteractive('df-fff66d72-8256-44b5-b036-32fe3d3863c9')\"\n",
              "            title=\"Convert this dataframe to an interactive table.\"\n",
              "            style=\"display:none;\">\n",
              "\n",
              "  <svg xmlns=\"http://www.w3.org/2000/svg\" height=\"24px\" viewBox=\"0 -960 960 960\">\n",
              "    <path d=\"M120-120v-720h720v720H120Zm60-500h600v-160H180v160Zm220 220h160v-160H400v160Zm0 220h160v-160H400v160ZM180-400h160v-160H180v160Zm440 0h160v-160H620v160ZM180-180h160v-160H180v160Zm440 0h160v-160H620v160Z\"/>\n",
              "  </svg>\n",
              "    </button>\n",
              "\n",
              "  <style>\n",
              "    .colab-df-container {\n",
              "      display:flex;\n",
              "      gap: 12px;\n",
              "    }\n",
              "\n",
              "    .colab-df-convert {\n",
              "      background-color: #E8F0FE;\n",
              "      border: none;\n",
              "      border-radius: 50%;\n",
              "      cursor: pointer;\n",
              "      display: none;\n",
              "      fill: #1967D2;\n",
              "      height: 32px;\n",
              "      padding: 0 0 0 0;\n",
              "      width: 32px;\n",
              "    }\n",
              "\n",
              "    .colab-df-convert:hover {\n",
              "      background-color: #E2EBFA;\n",
              "      box-shadow: 0px 1px 2px rgba(60, 64, 67, 0.3), 0px 1px 3px 1px rgba(60, 64, 67, 0.15);\n",
              "      fill: #174EA6;\n",
              "    }\n",
              "\n",
              "    .colab-df-buttons div {\n",
              "      margin-bottom: 4px;\n",
              "    }\n",
              "\n",
              "    [theme=dark] .colab-df-convert {\n",
              "      background-color: #3B4455;\n",
              "      fill: #D2E3FC;\n",
              "    }\n",
              "\n",
              "    [theme=dark] .colab-df-convert:hover {\n",
              "      background-color: #434B5C;\n",
              "      box-shadow: 0px 1px 3px 1px rgba(0, 0, 0, 0.15);\n",
              "      filter: drop-shadow(0px 1px 2px rgba(0, 0, 0, 0.3));\n",
              "      fill: #FFFFFF;\n",
              "    }\n",
              "  </style>\n",
              "\n",
              "    <script>\n",
              "      const buttonEl =\n",
              "        document.querySelector('#df-fff66d72-8256-44b5-b036-32fe3d3863c9 button.colab-df-convert');\n",
              "      buttonEl.style.display =\n",
              "        google.colab.kernel.accessAllowed ? 'block' : 'none';\n",
              "\n",
              "      async function convertToInteractive(key) {\n",
              "        const element = document.querySelector('#df-fff66d72-8256-44b5-b036-32fe3d3863c9');\n",
              "        const dataTable =\n",
              "          await google.colab.kernel.invokeFunction('convertToInteractive',\n",
              "                                                    [key], {});\n",
              "        if (!dataTable) return;\n",
              "\n",
              "        const docLinkHtml = 'Like what you see? Visit the ' +\n",
              "          '<a target=\"_blank\" href=https://colab.research.google.com/notebooks/data_table.ipynb>data table notebook</a>'\n",
              "          + ' to learn more about interactive tables.';\n",
              "        element.innerHTML = '';\n",
              "        dataTable['output_type'] = 'display_data';\n",
              "        await google.colab.output.renderOutput(dataTable, element);\n",
              "        const docLink = document.createElement('div');\n",
              "        docLink.innerHTML = docLinkHtml;\n",
              "        element.appendChild(docLink);\n",
              "      }\n",
              "    </script>\n",
              "  </div>\n",
              "\n",
              "\n",
              "    <div id=\"df-ae0c0b99-43d3-41ab-9b55-b9054cf95efa\">\n",
              "      <button class=\"colab-df-quickchart\" onclick=\"quickchart('df-ae0c0b99-43d3-41ab-9b55-b9054cf95efa')\"\n",
              "                title=\"Suggest charts\"\n",
              "                style=\"display:none;\">\n",
              "\n",
              "<svg xmlns=\"http://www.w3.org/2000/svg\" height=\"24px\"viewBox=\"0 0 24 24\"\n",
              "     width=\"24px\">\n",
              "    <g>\n",
              "        <path d=\"M19 3H5c-1.1 0-2 .9-2 2v14c0 1.1.9 2 2 2h14c1.1 0 2-.9 2-2V5c0-1.1-.9-2-2-2zM9 17H7v-7h2v7zm4 0h-2V7h2v10zm4 0h-2v-4h2v4z\"/>\n",
              "    </g>\n",
              "</svg>\n",
              "      </button>\n",
              "\n",
              "<style>\n",
              "  .colab-df-quickchart {\n",
              "      --bg-color: #E8F0FE;\n",
              "      --fill-color: #1967D2;\n",
              "      --hover-bg-color: #E2EBFA;\n",
              "      --hover-fill-color: #174EA6;\n",
              "      --disabled-fill-color: #AAA;\n",
              "      --disabled-bg-color: #DDD;\n",
              "  }\n",
              "\n",
              "  [theme=dark] .colab-df-quickchart {\n",
              "      --bg-color: #3B4455;\n",
              "      --fill-color: #D2E3FC;\n",
              "      --hover-bg-color: #434B5C;\n",
              "      --hover-fill-color: #FFFFFF;\n",
              "      --disabled-bg-color: #3B4455;\n",
              "      --disabled-fill-color: #666;\n",
              "  }\n",
              "\n",
              "  .colab-df-quickchart {\n",
              "    background-color: var(--bg-color);\n",
              "    border: none;\n",
              "    border-radius: 50%;\n",
              "    cursor: pointer;\n",
              "    display: none;\n",
              "    fill: var(--fill-color);\n",
              "    height: 32px;\n",
              "    padding: 0;\n",
              "    width: 32px;\n",
              "  }\n",
              "\n",
              "  .colab-df-quickchart:hover {\n",
              "    background-color: var(--hover-bg-color);\n",
              "    box-shadow: 0 1px 2px rgba(60, 64, 67, 0.3), 0 1px 3px 1px rgba(60, 64, 67, 0.15);\n",
              "    fill: var(--button-hover-fill-color);\n",
              "  }\n",
              "\n",
              "  .colab-df-quickchart-complete:disabled,\n",
              "  .colab-df-quickchart-complete:disabled:hover {\n",
              "    background-color: var(--disabled-bg-color);\n",
              "    fill: var(--disabled-fill-color);\n",
              "    box-shadow: none;\n",
              "  }\n",
              "\n",
              "  .colab-df-spinner {\n",
              "    border: 2px solid var(--fill-color);\n",
              "    border-color: transparent;\n",
              "    border-bottom-color: var(--fill-color);\n",
              "    animation:\n",
              "      spin 1s steps(1) infinite;\n",
              "  }\n",
              "\n",
              "  @keyframes spin {\n",
              "    0% {\n",
              "      border-color: transparent;\n",
              "      border-bottom-color: var(--fill-color);\n",
              "      border-left-color: var(--fill-color);\n",
              "    }\n",
              "    20% {\n",
              "      border-color: transparent;\n",
              "      border-left-color: var(--fill-color);\n",
              "      border-top-color: var(--fill-color);\n",
              "    }\n",
              "    30% {\n",
              "      border-color: transparent;\n",
              "      border-left-color: var(--fill-color);\n",
              "      border-top-color: var(--fill-color);\n",
              "      border-right-color: var(--fill-color);\n",
              "    }\n",
              "    40% {\n",
              "      border-color: transparent;\n",
              "      border-right-color: var(--fill-color);\n",
              "      border-top-color: var(--fill-color);\n",
              "    }\n",
              "    60% {\n",
              "      border-color: transparent;\n",
              "      border-right-color: var(--fill-color);\n",
              "    }\n",
              "    80% {\n",
              "      border-color: transparent;\n",
              "      border-right-color: var(--fill-color);\n",
              "      border-bottom-color: var(--fill-color);\n",
              "    }\n",
              "    90% {\n",
              "      border-color: transparent;\n",
              "      border-bottom-color: var(--fill-color);\n",
              "    }\n",
              "  }\n",
              "</style>\n",
              "\n",
              "      <script>\n",
              "        async function quickchart(key) {\n",
              "          const quickchartButtonEl =\n",
              "            document.querySelector('#' + key + ' button');\n",
              "          quickchartButtonEl.disabled = true;  // To prevent multiple clicks.\n",
              "          quickchartButtonEl.classList.add('colab-df-spinner');\n",
              "          try {\n",
              "            const charts = await google.colab.kernel.invokeFunction(\n",
              "                'suggestCharts', [key], {});\n",
              "          } catch (error) {\n",
              "            console.error('Error during call to suggestCharts:', error);\n",
              "          }\n",
              "          quickchartButtonEl.classList.remove('colab-df-spinner');\n",
              "          quickchartButtonEl.classList.add('colab-df-quickchart-complete');\n",
              "        }\n",
              "        (() => {\n",
              "          let quickchartButtonEl =\n",
              "            document.querySelector('#df-ae0c0b99-43d3-41ab-9b55-b9054cf95efa button');\n",
              "          quickchartButtonEl.style.display =\n",
              "            google.colab.kernel.accessAllowed ? 'block' : 'none';\n",
              "        })();\n",
              "      </script>\n",
              "    </div>\n",
              "    </div>\n",
              "  </div>\n"
            ],
            "application/vnd.google.colaboratory.intrinsic+json": {
              "type": "dataframe",
              "variable_name": "df"
            }
          },
          "metadata": {},
          "execution_count": 74
        }
      ]
    },
    {
      "cell_type": "markdown",
      "metadata": {
        "id": "5nSgWFrBAmek"
      },
      "source": [
        "**15. (1 балл)** Приведем данные к виду, пригодному для обучения линейных моделей. Для этого вещественные признаки надо отмасштабировать, а категориальные — привести к числовому виду. Также надо устранить пропуски в данных."
      ]
    },
    {
      "cell_type": "markdown",
      "metadata": {
        "id": "YSzOE3_xAmek"
      },
      "source": [
        "В первую очередь поймем, зачем необходимо применять масштабирование. Следующие ячейки с кодом построят гистограммы для 3 вещественных признаков выборки."
      ]
    },
    {
      "cell_type": "code",
      "execution_count": 75,
      "metadata": {
        "scrolled": true,
        "colab": {
          "base_uri": "https://localhost:8080/",
          "height": 448
        },
        "id": "1GTHRnaNAmek",
        "outputId": "01a521d6-d683-4e29-ac72-b1b7ecba7f97"
      },
      "outputs": [
        {
          "output_type": "execute_result",
          "data": {
            "text/plain": [
              "<Axes: >"
            ]
          },
          "metadata": {},
          "execution_count": 75
        },
        {
          "output_type": "display_data",
          "data": {
            "text/plain": [
              "<Figure size 640x480 with 1 Axes>"
            ],
            "image/png": "[encoded data removed]"
          },
          "metadata": {}
        }
      ],
      "source": [
        "df['DepTime_Hour'].hist(bins=20)"
      ]
    },
    {
      "cell_type": "code",
      "execution_count": 76,
      "metadata": {
        "id": "-B8xMq5LAmeo",
        "colab": {
          "base_uri": "https://localhost:8080/",
          "height": 448
        },
        "outputId": "eb53ac92-8e70-4838-9086-9b5613176c80"
      },
      "outputs": [
        {
          "output_type": "execute_result",
          "data": {
            "text/plain": [
              "<Axes: >"
            ]
          },
          "metadata": {},
          "execution_count": 76
        },
        {
          "output_type": "display_data",
          "data": {
            "text/plain": [
              "<Figure size 640x480 with 1 Axes>"
            ],
            "image/png": "[encoded data removed]"
          },
          "metadata": {}
        }
      ],
      "source": [
        "df['TaxiIn'].hist(bins=20)"
      ]
    },
    {
      "cell_type": "code",
      "execution_count": 77,
      "metadata": {
        "id": "gmvygcvZAmeo",
        "colab": {
          "base_uri": "https://localhost:8080/",
          "height": 448
        },
        "outputId": "e4933749-3022-4bf6-cb99-06f08f72a5b2"
      },
      "outputs": [
        {
          "output_type": "execute_result",
          "data": {
            "text/plain": [
              "<Axes: >"
            ]
          },
          "metadata": {},
          "execution_count": 77
        },
        {
          "output_type": "display_data",
          "data": {
            "text/plain": [
              "<Figure size 640x480 with 1 Axes>"
            ],
            "image/png": "[encoded data removed]"
          },
          "metadata": {}
        }
      ],
      "source": [
        "df['FlightNum'].hist(bins=20)"
      ]
    },
    {
      "cell_type": "markdown",
      "metadata": {
        "id": "v0_ntsqTAmeo"
      },
      "source": [
        "Какую проблему вы наблюдаете на этих графиках? Как масштабирование поможет её исправить?"
      ]
    },
    {
      "cell_type": "raw",
      "metadata": {
        "id": "Zlzep8ZUAmeo"
      },
      "source": []
    },
    {
      "cell_type": "markdown",
      "metadata": {
        "id": "Q3LtDzX4Ameo"
      },
      "source": [
        "Некоторые из признаков в нашем датасете являются категориальными. Типичным подходом к работе с ними является бинарное, или [one-hot-кодирование](https://en.wikipedia.org/wiki/One-hot).\n",
        "\n",
        "Реализуйте функцию transform_data, которая принимает на вход DataFrame с признаками и выполняет следующие шаги:\n",
        "1. Замена пропущенных значений на нули для вещественных признаков и на строки 'nan' для категориальных.\n",
        "2. Масштабирование вещественных признаков с помощью [StandardScaler](http://scikit-learn.org/stable/modules/generated/sklearn.preprocessing.StandardScaler.html).\n",
        "3. One-hot-кодирование категориальных признаков с помощью [DictVectorizer](http://scikit-learn.org/stable/modules/generated/sklearn.feature_extraction.DictVectorizer.html) или функции [pd.get_dummies](http://pandas.pydata.org/pandas-docs/stable/generated/pandas.get_dummies.html).\n",
        "\n",
        "Метод должен возвращать преобразованный DataFrame, который должна состоять из масштабированных вещественных признаков и закодированных категориальных (исходные признаки должны быть исключены из выборки)."
      ]
    },
    {
      "cell_type": "code",
      "execution_count": 78,
      "metadata": {
        "collapsed": true,
        "id": "iKM7TSRNAmep"
      },
      "outputs": [],
      "source": [
        "import pandas as pd\n",
        "from sklearn.preprocessing import StandardScaler, OneHotEncoder\n",
        "from sklearn.feature_extraction import DictVectorizer\n",
        "\n",
        "def transform_data(data):\n",
        "    numeric_features = data.select_dtypes(include=[np.number]).columns.tolist()\n",
        "    categorical_features = data.select_dtypes(include=['object']).columns.tolist()\n",
        "\n",
        "    data[numeric_features] = data[numeric_features].fillna(0)\n",
        "    data[categorical_features] = data[categorical_features].fillna('nan')\n",
        "\n",
        "    scaler = StandardScaler()\n",
        "    scaled_numeric = scaler.fit_transform(data[numeric_features])\n",
        "\n",
        "    vectorizer = DictVectorizer(sparse=False)\n",
        "    encoded_categorical = vectorizer.fit_transform(data[categorical_features].to_dict('records'))\n",
        "\n",
        "    transformed_data = np.hstack([scaled_numeric, encoded_categorical])\n",
        "\n",
        "    return transformed_data"
      ]
    },
    {
      "cell_type": "markdown",
      "metadata": {
        "id": "jt6YuKmxAmep"
      },
      "source": [
        "Примените функцию transform_data к данным. Сколько признаков получилось после преобразования?"
      ]
    },
    {
      "cell_type": "code",
      "execution_count": 79,
      "metadata": {
        "collapsed": true,
        "id": "VF2yueGjAmep",
        "colab": {
          "base_uri": "https://localhost:8080/"
        },
        "outputId": "89be461e-a687-462c-a042-477a9e2c6573"
      },
      "outputs": [
        {
          "output_type": "execute_result",
          "data": {
            "text/plain": [
              "641"
            ]
          },
          "metadata": {},
          "execution_count": 79
        }
      ],
      "source": [
        "X = df.drop(columns=['DepDelay'])\n",
        "df_transformed = transform_data(X)\n",
        "df_transformed.shape[1]"
      ]
    },
    {
      "cell_type": "markdown",
      "metadata": {
        "id": "Wh_1aFNYAmep"
      },
      "source": [
        "**16. (0.5 балла)** Разбейте выборку и вектор целевой переменной на обучение и контроль в отношении 70/30 (для этого можно использовать, например, функцию [train_test_split](http://scikit-learn.org/stable/modules/generated/sklearn.cross_validation.train_test_split.html))."
      ]
    },
    {
      "cell_type": "code",
      "execution_count": 80,
      "metadata": {
        "collapsed": true,
        "id": "p1KDM_kNAmep"
      },
      "outputs": [],
      "source": [
        "from sklearn.model_selection import train_test_split\n",
        "X = df_transformed\n",
        "Y = df['DepDelay']\n",
        "X_train, X_test, y_train, y_test = train_test_split(X, Y, test_size=0.3, random_state=42)\n",
        "\n"
      ]
    },
    {
      "cell_type": "markdown",
      "metadata": {
        "id": "LDtIB_tzAmeq"
      },
      "source": [
        "### Scikit-learn\n",
        "\n",
        "<img src = \"https://pp.vk.me/c4534/u35727827/93547647/x_d31c4463.jpg\">\n",
        "Теперь, когда мы привели данные к пригодному виду, попробуем решить задачу при помощи метода наименьших квадратов. Напомним, что данный метод заключается в оптимизации функционала $MSE$:\n",
        "\n",
        "$$MSE(X, y) = \\frac{1}{l} \\sum_{i=1}^l (<w, x_i> - y_i)^2 \\to \\min_{w},$$\n",
        "\n",
        "где $\\{ (x_i, y_i ) \\}_{i=1}^l$ — обучающая выборка, состоящая из $l$ пар объект-ответ.\n",
        "\n",
        "Заметим, что решение данной задачи уже реализовано в модуле sklearn в виде класса [LinearRegression](http://scikit-learn.org/stable/modules/generated/sklearn.linear_model.LinearRegression.html#sklearn.linear_model.LinearRegression).\n",
        "\n",
        "**17. (0.5 балла)** Обучите линейную регрессию на 1000 объектах из обучающей выборки и выведите значения $MSE$ и $R^2$ на этой подвыборке и контрольной выборке (итого 4 различных числа). Проинтерпретируйте полученный результат — насколько качественные прогнозы строит полученная модель? Какие проблемы наблюдаются в модели?\n",
        "\n",
        "**Подсказка**: изучите значения полученных коэффициентов $w$, сохраненных в атрибуте coef_ объекта LinearRegression."
      ]
    },
    {
      "cell_type": "code",
      "source": [
        "y_train[:1000][np.isnan(y_train[:1000])] = 0\n",
        "y_test[np.isnan(y_test)] = 0"
      ],
      "metadata": {
        "colab": {
          "base_uri": "https://localhost:8080/"
        },
        "id": "h-NGcozcgs4W",
        "outputId": "fa89aee8-3a94-467d-88fa-a04966500158"
      },
      "execution_count": 81,
      "outputs": [
        {
          "output_type": "stream",
          "name": "stderr",
          "text": [
            "/tmp/ipython-input-2325961846.py:1: FutureWarning: ChainedAssignmentError: behaviour will change in pandas 3.0!\n",
            "You are setting values through chained assignment. Currently this works in certain cases, but when using Copy-on-Write (which will become the default behaviour in pandas 3.0) this will never work to update the original DataFrame or Series, because the intermediate object on which we are setting values will behave as a copy.\n",
            "A typical example is when you are setting values in a column of a DataFrame, like:\n",
            "\n",
            "df[\"col\"][row_indexer] = value\n",
            "\n",
            "Use `df.loc[row_indexer, \"col\"] = values` instead, to perform the assignment in a single step and ensure this keeps updating the original `df`.\n",
            "\n",
            "See the caveats in the documentation: https://pandas.pydata.org/pandas-docs/stable/user_guide/indexing.html#returning-a-view-versus-a-copy\n",
            "\n",
            "  y_train[:1000][np.isnan(y_train[:1000])] = 0\n"
          ]
        }
      ]
    },
    {
      "cell_type": "code",
      "source": [
        "from sklearn.linear_model import Ridge, Lasso, LinearRegression\n",
        "from sklearn.metrics import r2_score, mean_squared_error, mean_absolute_error\n",
        "\n",
        "from sklearn.model_selection import cross_val_score\n",
        "from sklearn.model_selection import cross_val_predict\n",
        "from sklearn.model_selection import GridSearchCV, KFold"
      ],
      "metadata": {
        "id": "jN15Lmq-dlDg"
      },
      "execution_count": 87,
      "outputs": []
    },
    {
      "cell_type": "code",
      "execution_count": 83,
      "metadata": {
        "collapsed": true,
        "id": "cdeYiTF6Ameq",
        "colab": {
          "base_uri": "https://localhost:8080/"
        },
        "outputId": "3a434556-ccb7-433f-e9e0-3df26ed22811"
      },
      "outputs": [
        {
          "output_type": "stream",
          "name": "stdout",
          "text": [
            "MSE на обучении: 601.4722162283928\n",
            "R2 на обучении: 0.4005044112515448\n",
            "MSE на контроле: 1512.1090991079818\n",
            "R2 на контроле: -0.20190436657091237\n"
          ]
        }
      ],
      "source": [
        "lr = LinearRegression()\n",
        "lr.fit(X_train[:1000], y_train[:1000])\n",
        "\n",
        "train_pred = lr.predict(X_train[:1000])\n",
        "test_pred = lr.predict(X_test)\n",
        "\n",
        "print(\"MSE на обучении:\", mean_squared_error(y_train[:1000], train_pred))\n",
        "print(\"R2 на обучении:\", r2_score(y_train[:1000], train_pred))\n",
        "print(\"MSE на контроле:\", mean_squared_error(y_test, test_pred))\n",
        "print(\"R2 на контроле:\", r2_score(y_test, test_pred))"
      ]
    },
    {
      "cell_type": "markdown",
      "source": [
        "MSE (среднеквадратичная ошибка):\n",
        "На обучении ошибка составляет около 601.47, а на тесте — значительно выше — 1512.11. Это говорит о том, что модель в целом не очень точно предсказывает целевую переменную, особенно на новых данных.\n",
        "\n",
        "R2 (коэффициент детерминации):\n",
        "Значение R2 на обучающей выборке — 0.40, что означает, что модель объясняет около 40% вариации в данных. Это умеренный показатель, указывающий на слабое качество модели.\n",
        "На тесте R2 — отрицательное (-0.20), что говорит о том, что модель предсказывает хуже, чем просто использование среднего значения. Это явный признак плохой обобщающей способности."
      ],
      "metadata": {
        "id": "rRQjlydxjBUx"
      }
    },
    {
      "cell_type": "markdown",
      "metadata": {
        "collapsed": true,
        "id": "YYLTMvEcAmeq"
      },
      "source": [
        "Для решения описанных вами в предыдущем пункте проблем используем L1- или L2-регуляризацию, тем самым получив Lasso и Ridge регрессии соответственно и изменив оптимизационную задачу одним из следующих образов:\n",
        "$$MSE_{L1}(X, y) = \\frac{1}{l} \\sum_{i=1}^l (<w, x_i> - y_i)^2 + \\alpha ||w||_1 \\to \\min_{w},$$\n",
        "$$MSE_{L2}(X, y) = \\frac{1}{l} \\sum_{i=1}^l (<w, x_i> - y_i)^2 + \\alpha ||w||_2^2 \\to \\min_{w},$$\n",
        "\n",
        "где $\\alpha$ — коэффициент регуляризации. Один из способов его подбора заключается в переборе некоторого количества значений и оценке качества на кросс-валидации для каждого из них, после чего выбирается значение, для которого было получено наилучшее качество."
      ]
    },
    {
      "cell_type": "code",
      "execution_count": 84,
      "metadata": {
        "id": "6PIoSMYjAmeq",
        "colab": {
          "base_uri": "https://localhost:8080/"
        },
        "outputId": "bd6bf368-0e04-44dd-a122-4b0fa06d3b70"
      },
      "outputs": [
        {
          "output_type": "stream",
          "name": "stderr",
          "text": [
            "/usr/local/lib/python3.12/dist-packages/sklearn/linear_model/_coordinate_descent.py:695: ConvergenceWarning: Objective did not converge. You might want to increase the number of iterations, check the scale of the features or consider increasing regularisation. Duality gap: 1.946e+04, tolerance: 9.487e+01\n",
            "  model = cd_fast.enet_coordinate_descent(\n"
          ]
        },
        {
          "output_type": "stream",
          "name": "stdout",
          "text": [
            "Best alpha1 = 1.6681\n",
            "Best alpha2 = 1000.0000\n"
          ]
        }
      ],
      "source": [
        "\n",
        "X_train1 = X_train[:1000]\n",
        "y_train1 = y_train[:1000]\n",
        "\n",
        "alphas = np.logspace(-2, 3, 10)\n",
        "searcher = GridSearchCV(Lasso(), [{\"alpha\": alphas}], scoring='neg_mean_squared_error', cv=10)\n",
        "searcher.fit(X_train1, y_train1)\n",
        "\n",
        "best_alpha = searcher.best_params_[\"alpha\"]\n",
        "print(\"Best alpha1 = %.4f\" % best_alpha)\n",
        "\n",
        "\n",
        "alphas = np.logspace(-2, 3, 5)\n",
        "searcher = GridSearchCV(Ridge(), [{\"alpha\": alphas}], scoring='neg_mean_squared_error', cv=10)\n",
        "searcher.fit(X_train1, y_train1)\n",
        "\n",
        "best_alpha = searcher.best_params_[\"alpha\"]\n",
        "print(\"Best alpha2 = %.4f\" % best_alpha)"
      ]
    },
    {
      "cell_type": "markdown",
      "metadata": {
        "id": "w_gArpmvAmer"
      },
      "source": [
        "__18. (1 балл) __ Обучение линейной регрессии.\n",
        "\n",
        "\n",
        "\n",
        "Обучите линейную регрессию с $L_1$ (Lasso) и $L_2$ (Ridge) регуляризаторами (используйте параметры по умолчанию). Посмотрите, какое количество коэффициентов близко к 0 (степень близости к 0 определите сами из разумных пределов). Постройте график зависимости числа ненулевых коэффициентов от коэффицента регуляризации (перебирайте значения по логарифмической сетке от $10^{-3}$ до $10^3$). Согласуются ли результаты с вашими ожиданиями?"
      ]
    },
    {
      "cell_type": "code",
      "execution_count": 85,
      "metadata": {
        "collapsed": true,
        "id": "_ZkN3I2PAmer",
        "colab": {
          "base_uri": "https://localhost:8080/",
          "height": 788
        },
        "outputId": "cb3c29a2-1465-4950-ca2b-90ac4c6e2bd9"
      },
      "outputs": [
        {
          "output_type": "stream",
          "name": "stderr",
          "text": [
            "/usr/local/lib/python3.12/dist-packages/sklearn/linear_model/_coordinate_descent.py:695: ConvergenceWarning: Objective did not converge. You might want to increase the number of iterations, check the scale of the features or consider increasing regularisation. Duality gap: 2.259e+05, tolerance: 1.003e+02\n",
            "  model = cd_fast.enet_coordinate_descent(\n",
            "/usr/local/lib/python3.12/dist-packages/sklearn/linear_model/_coordinate_descent.py:695: ConvergenceWarning: Objective did not converge. You might want to increase the number of iterations, check the scale of the features or consider increasing regularisation. Duality gap: 2.270e+05, tolerance: 1.003e+02\n",
            "  model = cd_fast.enet_coordinate_descent(\n",
            "/usr/local/lib/python3.12/dist-packages/sklearn/linear_model/_coordinate_descent.py:695: ConvergenceWarning: Objective did not converge. You might want to increase the number of iterations, check the scale of the features or consider increasing regularisation. Duality gap: 1.297e+04, tolerance: 1.003e+02\n",
            "  model = cd_fast.enet_coordinate_descent(\n",
            "/usr/local/lib/python3.12/dist-packages/sklearn/linear_model/_coordinate_descent.py:695: ConvergenceWarning: Objective did not converge. You might want to increase the number of iterations, check the scale of the features or consider increasing regularisation. Duality gap: 1.356e+02, tolerance: 1.003e+02\n",
            "  model = cd_fast.enet_coordinate_descent(\n",
            "/usr/local/lib/python3.12/dist-packages/sklearn/linear_model/_coordinate_descent.py:695: ConvergenceWarning: Objective did not converge. You might want to increase the number of iterations, check the scale of the features or consider increasing regularisation. Duality gap: 2.026e+02, tolerance: 1.003e+02\n",
            "  model = cd_fast.enet_coordinate_descent(\n",
            "/usr/local/lib/python3.12/dist-packages/sklearn/linear_model/_coordinate_descent.py:695: ConvergenceWarning: Objective did not converge. You might want to increase the number of iterations, check the scale of the features or consider increasing regularisation. Duality gap: 1.004e+03, tolerance: 1.003e+02\n",
            "  model = cd_fast.enet_coordinate_descent(\n"
          ]
        },
        {
          "output_type": "display_data",
          "data": {
            "text/plain": [
              "<Figure size 1200x600 with 2 Axes>"
            ],
            "image/png": "[encoded data removed]"
          },
          "metadata": {}
        }
      ],
      "source": [
        "import matplotlib.pyplot as plt\n",
        "alphas = np.logspace(-3, 3, 50)\n",
        "lasso_nonzero = []\n",
        "ridge_nonzero = []\n",
        "\n",
        "for alpha in alphas:\n",
        "    lasso = Lasso(alpha=alpha)\n",
        "    lasso.fit(X_train[:1000], y_train[:1000])\n",
        "    lasso_nonzero.append(np.sum(np.abs(lasso.coef_) > 0))\n",
        "\n",
        "    ridge = Ridge(alpha=alpha)\n",
        "    ridge.fit(X_train[:1000], y_train[:1000])\n",
        "    ridge_nonzero.append(np.sum(np.abs(ridge.coef_) > 0))\n",
        "\n",
        "plt.figure(figsize=(12, 6))\n",
        "plt.subplot(1, 2, 1)\n",
        "plt.semilogx(alphas, lasso_nonzero)\n",
        "plt.title('Lasso')\n",
        "\n",
        "plt.subplot(1, 2, 2)\n",
        "plt.semilogx(alphas, ridge_nonzero)\n",
        "plt.title('Ridge')\n",
        "\n",
        "plt.show()"
      ]
    },
    {
      "cell_type": "markdown",
      "metadata": {
        "id": "tycwxvYqAmer"
      },
      "source": [
        "Посчитайте для Ridge-регрессии следующие метрики: $RMSE$, $MAE$, $R^2$."
      ]
    },
    {
      "cell_type": "code",
      "execution_count": 88,
      "metadata": {
        "collapsed": true,
        "id": "SQX-L7uJAmer",
        "colab": {
          "base_uri": "https://localhost:8080/"
        },
        "outputId": "f8de9bba-6d48-4cf4-86e0-cec4678c535e"
      },
      "outputs": [
        {
          "output_type": "stream",
          "name": "stdout",
          "text": [
            "RMSE: 36.423569223126975\n",
            "MAE: 19.65305575078733\n",
            "R2: -0.0545126360656889\n"
          ]
        }
      ],
      "source": [
        "ridge_default = Ridge(alpha=1.0, random_state=42)\n",
        "ridge_default.fit(X_train1, y_train1)\n",
        "y_pred_ridge = ridge_default.predict(X_test)\n",
        "\n",
        "rmse = np.sqrt(mean_squared_error(y_test, y_pred_ridge))\n",
        "mae = mean_absolute_error(y_test, y_pred_ridge)\n",
        "r2 = r2_score(y_test, y_pred_ridge)\n",
        "\n",
        "print(f\"RMSE: {rmse}\")\n",
        "print(f\"MAE: {mae}\")\n",
        "print(f\"R2: {r2}\")"
      ]
    },
    {
      "cell_type": "markdown",
      "metadata": {
        "id": "d96zn34dAmer"
      },
      "source": [
        "Подберите на обучающей выборке для Ridge-регрессии коэффициент регуляризации (перебирайте значения по логарифмической сетке от $10^{-3}$ до $10^3$) для каждой из метрик при помощи кросс-валидации c 5 фолдами на тех же 1000 объектах. Для этого воспользуйтесь GridSearchCV и KFold из sklearn. Постройте графики зависимости фукнции потерь от коэффициента регуляризации. Посчитайте те же метрики снова. Заметно ли изменилось качество?\n",
        "\n",
        "Для выполнения данного задания вам могут понадобиться реализованные в библиотеке объекты [LassoCV](http://scikit-learn.org/stable/modules/generated/sklearn.linear_model.LassoCV.html), [RidgeCV](http://scikit-learn.org/stable/modules/generated/sklearn.linear_model.RidgeCV.html) и [KFold](http://scikit-learn.org/stable/modules/generated/sklearn.cross_validation.KFold.html)."
      ]
    },
    {
      "cell_type": "code",
      "source": [
        "X_train = X_train[:1000]\n",
        "y_train = y_train[:1000]\n",
        "# Создаем логарифмическую сетку значений alpha\n",
        "\n",
        "param_grid = {'alpha': np.logspace(-3, 3, 50)}\n",
        "\n",
        "# Определяем объект кросс-валидации\n",
        "kf = KFold(n_splits=5, shuffle=True, random_state=42)\n",
        "\n",
        "# Создаем модель Ridge\n",
        "ridge = Ridge()\n",
        "\n",
        "# Создаем GridSearchCV\n",
        "grid_search = GridSearchCV(ridge, param_grid, cv=kf, scoring='neg_mean_squared_error', return_train_score=True)\n",
        "\n",
        "# Обучение с подбором гиперпараметра\n",
        "grid_search.fit(X_train, y_train)\n",
        "\n",
        "# Лучшее значение alpha\n",
        "best_alpha = grid_search.best_params_['alpha']\n",
        "print(f\"Лучшее alpha по кросс-валидации: {best_alpha}\")\n",
        "\n",
        "# Получение результатов для построения графика\n",
        "mean_test_scores = grid_search.cv_results_['mean_test_score']\n",
        "mean_test_errors = -mean_test_scores  # так как scoring='neg_mean_squared_error'\n",
        "\n",
        "# Построение графика\n",
        "plt.figure(figsize=(10, 6))\n",
        "plt.plot(param_grid['alpha'], mean_test_errors, marker='o')\n",
        "plt.xscale('log')\n",
        "plt.xlabel('Alpha')\n",
        "plt.ylabel('Средняя ошибка MSE по кросс-валидации')\n",
        "plt.title('Зависимость ошибки от коэффициента регуляризации')\n",
        "plt.grid(True)\n",
        "plt.show()\n",
        "\n",
        "# Обучение модели на лучших параметрах\n",
        "best_ridge = Ridge(alpha=best_alpha)\n",
        "best_ridge.fit(X_train, y_train)\n",
        "\n",
        "# Предсказания и метрики\n",
        "y_pred_train = best_ridge.predict(X_train)\n",
        "y_pred_test = best_ridge.predict(X_test)\n",
        "\n",
        "train_mse = mean_squared_error(y_train, y_pred_train)\n",
        "test_mse = mean_squared_error(y_test, y_pred_test)\n",
        "train_r2 = r2_score(y_train, y_pred_train)\n",
        "test_r2 = r2_score(y_test, y_pred_test)\n",
        "\n",
        "print(f\"На обучающей выборке: MSE = {train_mse:.4f}, R2 = {train_r2:.4f}\")\n",
        "print(f\"На тестовой выборке: MSE = {test_mse:.4f}, R2 = {test_r2:.4f}\")"
      ],
      "metadata": {
        "colab": {
          "base_uri": "https://localhost:8080/",
          "height": 624
        },
        "id": "X9S6ZT1wJ3pu",
        "outputId": "6ef1b2d6-b672-42d4-98f3-535beaddc5e8"
      },
      "execution_count": 92,
      "outputs": [
        {
          "output_type": "stream",
          "name": "stdout",
          "text": [
            "Лучшее alpha по кросс-валидации: 33.9322177189533\n"
          ]
        },
        {
          "output_type": "display_data",
          "data": {
            "text/plain": [
              "<Figure size 1000x600 with 1 Axes>"
            ],
            "image/png": "[encoded data removed]"
          },
          "metadata": {}
        },
        {
          "output_type": "stream",
          "name": "stdout",
          "text": [
            "На обучающей выборке: MSE = 840.7798, R2 = 0.1620\n",
            "На тестовой выборке: MSE = 1179.7597, R2 = 0.0623\n"
          ]
        }
      ]
    },
    {
      "cell_type": "markdown",
      "metadata": {
        "collapsed": true,
        "id": "1m1NYTTTAmet"
      },
      "source": [
        "__19. (0.5 балла)__ Поиск объектов-выбросов\n",
        "\n",
        "\n",
        "Как известно, MSE сильно штрафует за большие ошибки на объектах-выбросах. С помощью cross_val_predict сделайте Out-of-Fold предсказания для обучающей выборки. Посчитайте ошибки и посмотрите на их распределение (plt.hist). Что вы видите?"
      ]
    },
    {
      "cell_type": "code",
      "execution_count": 91,
      "metadata": {
        "collapsed": true,
        "id": "wwKu4GKaAmet",
        "colab": {
          "base_uri": "https://localhost:8080/",
          "height": 472
        },
        "outputId": "b67e76e2-b75e-4774-a36e-10d458a36f9c"
      },
      "outputs": [
        {
          "output_type": "display_data",
          "data": {
            "text/plain": [
              "<Figure size 640x480 with 1 Axes>"
            ],
            "image/png": "[encoded data removed]"
          },
          "metadata": {}
        }
      ],
      "source": [
        "cv = KFold(n_splits=5, shuffle=True, random_state=42)\n",
        "oof_predictions = cross_val_predict(LinearRegression(), X_train1, y_train1, cv=cv)\n",
        "errors = y_train1 - oof_predictions\n",
        "\n",
        "plt.hist(errors, bins=50)\n",
        "plt.title('Распределение ошибок')\n",
        "plt.xlabel('Ошибка')\n",
        "plt.ylabel('Частота')\n",
        "plt.show()"
      ]
    }
  ],
  "metadata": {
    "kernelspec": {
      "display_name": "Python 3 (ipykernel)",
      "language": "python",
      "name": "python3"
    },
    "language_info": {
      "codemirror_mode": {
        "name": "ipython",
        "version": 3
      },
      "file_extension": ".py",
      "mimetype": "text/x-python",
      "name": "python",
      "nbconvert_exporter": "python",
      "pygments_lexer": "ipython3",
      "version": "3.10.11"
    },
    "colab": {
      "provenance": []
    }
  },
  "nbformat": 4,
  "nbformat_minor": 0
}